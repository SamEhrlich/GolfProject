{
 "cells": [
  {
   "cell_type": "markdown",
   "metadata": {},
   "source": [
    "# Final Data Story - Table of Contents\n",
    "---"
   ]
  },
  {
   "cell_type": "markdown",
   "metadata": {},
   "source": [
    "## Team06 -- Golf Data Project - The Unpredictable Game of Golf"
   ]
  },
  {
   "cell_type": "markdown",
   "metadata": {},
   "source": [
    "### Amanda Ressel, Craig Smith, Sam Ehrlich"
   ]
  },
  {
   "cell_type": "markdown",
   "metadata": {},
   "source": [
    "#### This project explores the data from PGA golf tournaments from 2015-2022. We use the data to examine golf on a macro and micro level that follows player's performances throughout the years. "
   ]
  },
  {
   "cell_type": "markdown",
   "metadata": {},
   "source": [
    " "
   ]
  },
  {
   "cell_type": "markdown",
   "metadata": {},
   "source": [
    "#### Table of Contents"
   ]
  },
  {
   "cell_type": "markdown",
   "metadata": {},
   "source": [
    "1. [BrushingUp.ipynb](../SpIn_1_Artifacts/BrushingUp.ipynb)\n",
    "This notebook was our initial loading of the data. \n",
    "    <br>-We viewed each column and decided which ones were necessary to keep for the project. \n",
    "    <br>-We deleted unnecessary columns and reordered the ones we want to keep. \n",
    "    <br>-We viewed a summary of our data to learn more about it.\n",
    "    <br>-We counted the amount of NA values were present in our dataset."
   ]
  },
  {
   "cell_type": "markdown",
   "metadata": {},
   "source": [
    "2. [MajorsTable.ipynb](../SpIn_2_Artifacts/SQL_Load_Majors.ipynb)\n",
    "This notebook loads in the majors dataset from the file share and loads the data into the SQL database."
   ]
  },
  {
   "cell_type": "markdown",
   "metadata": {},
   "source": [
    "3. [WeatherDataPart1.ipynb](../SpIn_2_Artifacts/WeatherData.ipynb)\n",
    "This notebook is the creation of our weather data that we will be using in our project. "
   ]
  },
  {
   "cell_type": "markdown",
   "metadata": {},
   "source": [
    "4. [LoadingDatatable.ipynb](../SpIn_3_Artifacts/SQL_create_table_master.ipynb)\n",
    "This notebook loads our dataset from the file share to the SQL database."
   ]
  },
  {
   "cell_type": "markdown",
   "metadata": {},
   "source": [
    "5. [GolfERD.jpeg](../SpIn_3_Artifacts/golfERD.jpeg)\n",
    "This is an image of our ERD"
   ]
  },
  {
   "cell_type": "markdown",
   "metadata": {},
   "source": [
    "6. [WeatherDataPart2.ipynb](../SpIn_4_Artifacts/CleaningWeatherData.ipynb)\n",
    "This notebook is the final part to pulling in the weather data.\n",
    "    <br>-The data is moved to a pivot table where each weather feature is contained in a separate column\n",
    "    <br>-Another table is made to provide the distances between the weather station and the golf course to account for any bias that may occur."
   ]
  },
  {
   "cell_type": "markdown",
   "metadata": {},
   "source": [
    "7. [LogisticClassifierTop10Baseline.ipynb](../SpIn_4_Artifacts/SG_Purse_MeanLogRegTop10.ipynb)\n",
    "This notebook is our baseline logistic classifier with our target variable being top 10.\n",
    "    <br>-We use only the data from the tournament dataset without joining in external data.\n",
    "    <br>-We are only using the purse and shots gained metrics to predict which players made the top 10.\n",
    "    <br>-We use a 70/30% split for the data."
   ]
  },
  {
   "cell_type": "markdown",
   "metadata": {},
   "source": [
    "8. [RandomForestTop10.ipynb](../SpIn_4_Artifacts/Top10_Random_Forest.ipynb)\n",
    "This notebook is a Random Forest Regressor predicting on players making the top 10.\n",
    "    <br>-This regressor was made to test against the accuracy of our logistic classifier model for predicting top 10."
   ]
  },
  {
   "cell_type": "markdown",
   "metadata": {},
   "source": [
    "9. [Streaks.ipynb](../SpIn_5_Artifacts/CreatingStreakColumn.ipynb)\n",
    "This notebook involves creating a column for cut and top 10 streaks for each player."
   ]
  },
  {
   "cell_type": "markdown",
   "metadata": {},
   "source": [
    "10. [StreakVisualizations.ipynb](../SpIn_5_Artifacts/StreakVisualizations.ipynb)\n",
    "This notebook creates visualizations for our datastory.\n",
    "    <br>-Visualizations include Streak vs Shots Gained, Shots Gained vs Purse and other comparisons of our data."
   ]
  },
  {
   "cell_type": "markdown",
   "metadata": {},
   "source": [
    "11. [LogisticClassifierWithWeather.ipynb](../SpIn_5_Artifacts/LogWithWeather.ipynb)\n",
    "This notebook is a logisitic classifier including the weather data.\n",
    "<br>-This classifier contains less rows than the entire dataset, but more features to help predict the target variable."
   ]
  },
  {
   "cell_type": "markdown",
   "metadata": {},
   "source": [
    "12. [RadarCharts.ipynb](../SpIn_5_Artifacts/Radar_Charts.ipynb)\n",
    "This notebook includes the creation of our radar charts used in the data story."
   ]
  },
  {
   "cell_type": "markdown",
   "metadata": {},
   "source": [
    " "
   ]
  }
 ],
 "metadata": {
  "kernelspec": {
   "display_name": "Python 3",
   "language": "python",
   "name": "python3"
  },
  "language_info": {
   "codemirror_mode": {
    "name": "ipython",
    "version": 3
   },
   "file_extension": ".py",
   "mimetype": "text/x-python",
   "name": "python",
   "nbconvert_exporter": "python",
   "pygments_lexer": "ipython3",
   "version": "3.7.3"
  }
 },
 "nbformat": 4,
 "nbformat_minor": 2
}
