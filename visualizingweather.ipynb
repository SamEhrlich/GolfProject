{
 "cells": [
  {
   "cell_type": "code",
   "execution_count": null,
   "metadata": {},
   "outputs": [],
   "source": [
    "#visualize the weather, highs/lows/precip_mm/precip rating/wind_mph/wind rating\n",
    "#join data into 1 df and start normalizing the data\n",
    "#start looking for stories to dive deeper into\n",
    "#create the streak/previous tournament placement graph"
   ]
  },
  {
   "cell_type": "code",
   "execution_count": 10,
   "metadata": {},
   "outputs": [
    {
     "name": "stderr",
     "output_type": "stream",
     "text": [
      "\n",
      "Attaching package: ‘dplyr’\n",
      "\n",
      "The following objects are masked from ‘package:stats’:\n",
      "\n",
      "    filter, lag\n",
      "\n",
      "The following objects are masked from ‘package:base’:\n",
      "\n",
      "    intersect, setdiff, setequal, union\n",
      "\n"
     ]
    }
   ],
   "source": [
    "library(ggplot2)\n",
    "library(dplyr)"
   ]
  },
  {
   "cell_type": "code",
   "execution_count": 4,
   "metadata": {},
   "outputs": [],
   "source": [
    "weather_df <- read.csv('/dsa/groups/casestudy2022su/team06/weather_data.csv')"
   ]
  },
  {
   "cell_type": "code",
   "execution_count": 19,
   "metadata": {
    "scrolled": true
   },
   "outputs": [
    {
     "data": {
      "text/html": [
       "<table>\n",
       "<caption>A data.frame: 6 × 19</caption>\n",
       "<thead>\n",
       "\t<tr><th scope=col>X</th><th scope=col>date</th><th scope=col>station</th><th scope=col>wdf2</th><th scope=col>wdf5</th><th scope=col>wsf2</th><th scope=col>wsf5</th><th scope=col>wt01</th><th scope=col>wt02</th><th scope=col>wt03</th><th scope=col>wt08</th><th scope=col>fmax</th><th scope=col>fmin</th><th scope=col>course_location</th><th scope=col>wind_mph</th><th scope=col>wind_rating</th><th scope=col>prcp_mm</th><th scope=col>prcp_rating</th><th scope=col>year</th></tr>\n",
       "\t<tr><th scope=col>&lt;int&gt;</th><th scope=col>&lt;fct&gt;</th><th scope=col>&lt;fct&gt;</th><th scope=col>&lt;dbl&gt;</th><th scope=col>&lt;dbl&gt;</th><th scope=col>&lt;dbl&gt;</th><th scope=col>&lt;dbl&gt;</th><th scope=col>&lt;dbl&gt;</th><th scope=col>&lt;dbl&gt;</th><th scope=col>&lt;dbl&gt;</th><th scope=col>&lt;dbl&gt;</th><th scope=col>&lt;dbl&gt;</th><th scope=col>&lt;dbl&gt;</th><th scope=col>&lt;fct&gt;</th><th scope=col>&lt;dbl&gt;</th><th scope=col>&lt;int&gt;</th><th scope=col>&lt;dbl&gt;</th><th scope=col>&lt;int&gt;</th><th scope=col>&lt;int&gt;</th></tr>\n",
       "</thead>\n",
       "<tbody>\n",
       "\t<tr><td>0</td><td>04-10-2014</td><td>GHCND:USW00013837</td><td>170</td><td>170</td><td>67</td><td> 89</td><td>0</td><td>0</td><td>0</td><td>0</td><td>77</td><td>52</td><td>Augusta National Golf Club - Augusta, GA</td><td>6</td><td>2</td><td> 0.0</td><td>0</td><td>2014</td></tr>\n",
       "\t<tr><td>1</td><td>04-11-2014</td><td>GHCND:USW00013837</td><td>200</td><td>200</td><td>94</td><td>116</td><td>0</td><td>0</td><td>0</td><td>0</td><td>79</td><td>53</td><td>Augusta National Golf Club - Augusta, GA</td><td>7</td><td>3</td><td> 0.0</td><td>0</td><td>2014</td></tr>\n",
       "\t<tr><td>2</td><td>04-12-2014</td><td>GHCND:USW00013837</td><td>200</td><td>180</td><td>54</td><td> 76</td><td>0</td><td>0</td><td>0</td><td>0</td><td>84</td><td>57</td><td>Augusta National Golf Club - Augusta, GA</td><td>4</td><td>2</td><td> 0.0</td><td>0</td><td>2014</td></tr>\n",
       "\t<tr><td>3</td><td>04-13-2014</td><td>GHCND:USW00013837</td><td>130</td><td>130</td><td>67</td><td> 81</td><td>0</td><td>0</td><td>0</td><td>0</td><td>82</td><td>58</td><td>Augusta National Golf Club - Augusta, GA</td><td>8</td><td>3</td><td> 0.0</td><td>0</td><td>2014</td></tr>\n",
       "\t<tr><td>4</td><td>01-29-2015</td><td>GHCND:USW00003192</td><td> 70</td><td>220</td><td>31</td><td> 40</td><td>1</td><td>0</td><td>0</td><td>0</td><td>70</td><td>56</td><td>TPC Scottsdale - Scottsdale, AZ         </td><td>1</td><td>1</td><td> 4.1</td><td>2</td><td>2015</td></tr>\n",
       "\t<tr><td>5</td><td>01-30-2015</td><td>GHCND:USW00003192</td><td>100</td><td>340</td><td>40</td><td> 72</td><td>1</td><td>0</td><td>0</td><td>0</td><td>59</td><td>55</td><td>TPC Scottsdale - Scottsdale, AZ         </td><td>3</td><td>2</td><td>11.4</td><td>3</td><td>2015</td></tr>\n",
       "</tbody>\n",
       "</table>\n"
      ],
      "text/latex": [
       "A data.frame: 6 × 19\n",
       "\\begin{tabular}{r|lllllllllllllllllll}\n",
       " X & date & station & wdf2 & wdf5 & wsf2 & wsf5 & wt01 & wt02 & wt03 & wt08 & fmax & fmin & course\\_location & wind\\_mph & wind\\_rating & prcp\\_mm & prcp\\_rating & year\\\\\n",
       " <int> & <fct> & <fct> & <dbl> & <dbl> & <dbl> & <dbl> & <dbl> & <dbl> & <dbl> & <dbl> & <dbl> & <dbl> & <fct> & <dbl> & <int> & <dbl> & <int> & <int>\\\\\n",
       "\\hline\n",
       "\t 0 & 04-10-2014 & GHCND:USW00013837 & 170 & 170 & 67 &  89 & 0 & 0 & 0 & 0 & 77 & 52 & Augusta National Golf Club - Augusta, GA & 6 & 2 &  0.0 & 0 & 2014\\\\\n",
       "\t 1 & 04-11-2014 & GHCND:USW00013837 & 200 & 200 & 94 & 116 & 0 & 0 & 0 & 0 & 79 & 53 & Augusta National Golf Club - Augusta, GA & 7 & 3 &  0.0 & 0 & 2014\\\\\n",
       "\t 2 & 04-12-2014 & GHCND:USW00013837 & 200 & 180 & 54 &  76 & 0 & 0 & 0 & 0 & 84 & 57 & Augusta National Golf Club - Augusta, GA & 4 & 2 &  0.0 & 0 & 2014\\\\\n",
       "\t 3 & 04-13-2014 & GHCND:USW00013837 & 130 & 130 & 67 &  81 & 0 & 0 & 0 & 0 & 82 & 58 & Augusta National Golf Club - Augusta, GA & 8 & 3 &  0.0 & 0 & 2014\\\\\n",
       "\t 4 & 01-29-2015 & GHCND:USW00003192 &  70 & 220 & 31 &  40 & 1 & 0 & 0 & 0 & 70 & 56 & TPC Scottsdale - Scottsdale, AZ          & 1 & 1 &  4.1 & 2 & 2015\\\\\n",
       "\t 5 & 01-30-2015 & GHCND:USW00003192 & 100 & 340 & 40 &  72 & 1 & 0 & 0 & 0 & 59 & 55 & TPC Scottsdale - Scottsdale, AZ          & 3 & 2 & 11.4 & 3 & 2015\\\\\n",
       "\\end{tabular}\n"
      ],
      "text/markdown": [
       "\n",
       "A data.frame: 6 × 19\n",
       "\n",
       "| X &lt;int&gt; | date &lt;fct&gt; | station &lt;fct&gt; | wdf2 &lt;dbl&gt; | wdf5 &lt;dbl&gt; | wsf2 &lt;dbl&gt; | wsf5 &lt;dbl&gt; | wt01 &lt;dbl&gt; | wt02 &lt;dbl&gt; | wt03 &lt;dbl&gt; | wt08 &lt;dbl&gt; | fmax &lt;dbl&gt; | fmin &lt;dbl&gt; | course_location &lt;fct&gt; | wind_mph &lt;dbl&gt; | wind_rating &lt;int&gt; | prcp_mm &lt;dbl&gt; | prcp_rating &lt;int&gt; | year &lt;int&gt; |\n",
       "|---|---|---|---|---|---|---|---|---|---|---|---|---|---|---|---|---|---|---|\n",
       "| 0 | 04-10-2014 | GHCND:USW00013837 | 170 | 170 | 67 |  89 | 0 | 0 | 0 | 0 | 77 | 52 | Augusta National Golf Club - Augusta, GA | 6 | 2 |  0.0 | 0 | 2014 |\n",
       "| 1 | 04-11-2014 | GHCND:USW00013837 | 200 | 200 | 94 | 116 | 0 | 0 | 0 | 0 | 79 | 53 | Augusta National Golf Club - Augusta, GA | 7 | 3 |  0.0 | 0 | 2014 |\n",
       "| 2 | 04-12-2014 | GHCND:USW00013837 | 200 | 180 | 54 |  76 | 0 | 0 | 0 | 0 | 84 | 57 | Augusta National Golf Club - Augusta, GA | 4 | 2 |  0.0 | 0 | 2014 |\n",
       "| 3 | 04-13-2014 | GHCND:USW00013837 | 130 | 130 | 67 |  81 | 0 | 0 | 0 | 0 | 82 | 58 | Augusta National Golf Club - Augusta, GA | 8 | 3 |  0.0 | 0 | 2014 |\n",
       "| 4 | 01-29-2015 | GHCND:USW00003192 |  70 | 220 | 31 |  40 | 1 | 0 | 0 | 0 | 70 | 56 | TPC Scottsdale - Scottsdale, AZ          | 1 | 1 |  4.1 | 2 | 2015 |\n",
       "| 5 | 01-30-2015 | GHCND:USW00003192 | 100 | 340 | 40 |  72 | 1 | 0 | 0 | 0 | 59 | 55 | TPC Scottsdale - Scottsdale, AZ          | 3 | 2 | 11.4 | 3 | 2015 |\n",
       "\n"
      ],
      "text/plain": [
       "  X date       station           wdf2 wdf5 wsf2 wsf5 wt01 wt02 wt03 wt08 fmax\n",
       "1 0 04-10-2014 GHCND:USW00013837 170  170  67    89  0    0    0    0    77  \n",
       "2 1 04-11-2014 GHCND:USW00013837 200  200  94   116  0    0    0    0    79  \n",
       "3 2 04-12-2014 GHCND:USW00013837 200  180  54    76  0    0    0    0    84  \n",
       "4 3 04-13-2014 GHCND:USW00013837 130  130  67    81  0    0    0    0    82  \n",
       "5 4 01-29-2015 GHCND:USW00003192  70  220  31    40  1    0    0    0    70  \n",
       "6 5 01-30-2015 GHCND:USW00003192 100  340  40    72  1    0    0    0    59  \n",
       "  fmin course_location                          wind_mph wind_rating prcp_mm\n",
       "1 52   Augusta National Golf Club - Augusta, GA 6        2            0.0   \n",
       "2 53   Augusta National Golf Club - Augusta, GA 7        3            0.0   \n",
       "3 57   Augusta National Golf Club - Augusta, GA 4        2            0.0   \n",
       "4 58   Augusta National Golf Club - Augusta, GA 8        3            0.0   \n",
       "5 56   TPC Scottsdale - Scottsdale, AZ          1        1            4.1   \n",
       "6 55   TPC Scottsdale - Scottsdale, AZ          3        2           11.4   \n",
       "  prcp_rating year\n",
       "1 0           2014\n",
       "2 0           2014\n",
       "3 0           2014\n",
       "4 0           2014\n",
       "5 2           2015\n",
       "6 3           2015"
      ]
     },
     "metadata": {},
     "output_type": "display_data"
    }
   ],
   "source": [
    "head(weather_df)"
   ]
  },
  {
   "cell_type": "code",
   "execution_count": 9,
   "metadata": {
    "scrolled": true
   },
   "outputs": [
    {
     "data": {
      "image/png": "[encoded data removed]",
      "text/plain": [
       "plot without title"
      ]
     },
     "metadata": {},
     "output_type": "display_data"
    }
   ],
   "source": [
    "wind_rating_bar <- ggplot(data=weather_df, aes(x=wind_rating)) + geom_bar()\n",
    "wind_rating_bar\n",
    "#most wind ratings are low/mid. I am interested in which tournaments had high wind rating, maybe they can provide\n",
    "#details on how the players played that day\n",
    "#side note - the weather station is not entirely on the course, so some bias for the actual wind should be added\n",
    "#we can expect hilton head would be windier than the main land because the course is right on the coast\n",
    "\n"
   ]
  },
  {
   "cell_type": "code",
   "execution_count": 47,
   "metadata": {},
   "outputs": [
    {
     "data": {
      "text/html": [
       "11"
      ],
      "text/latex": [
       "11"
      ],
      "text/markdown": [
       "11"
      ],
      "text/plain": [
       "[1] 11"
      ]
     },
     "metadata": {},
     "output_type": "display_data"
    }
   ],
   "source": [
    "high_winds <- weather_df %>%\n",
    "filter(wind_rating == 4)\n",
    "nrow(high_winds)\n",
    "#11 tournaments had a high wind category"
   ]
  },
  {
   "cell_type": "code",
   "execution_count": 17,
   "metadata": {
    "scrolled": true
   },
   "outputs": [
    {
     "data": {
      "image/png": "[encoded data removed]",
      "text/plain": [
       "plot without title"
      ]
     },
     "metadata": {},
     "output_type": "display_data"
    }
   ],
   "source": [
    "ggplot(data=high_winds, aes(x=course_location)) + geom_bar() +\n",
    "theme(axis.text.x = element_text(angle=90))\n",
    "#hilton head had the highest winds with 6 dates at a level 4 wind \n",
    "#this also does not account for the station being on the main land, wind was likely higher than a 4 rating"
   ]
  },
  {
   "cell_type": "code",
   "execution_count": 21,
   "metadata": {},
   "outputs": [
    {
     "data": {
      "text/html": [
       "<table>\n",
       "<caption>A data.frame: 6 × 19</caption>\n",
       "<thead>\n",
       "\t<tr><th scope=col>X</th><th scope=col>date</th><th scope=col>station</th><th scope=col>wdf2</th><th scope=col>wdf5</th><th scope=col>wsf2</th><th scope=col>wsf5</th><th scope=col>wt01</th><th scope=col>wt02</th><th scope=col>wt03</th><th scope=col>wt08</th><th scope=col>fmax</th><th scope=col>fmin</th><th scope=col>course_location</th><th scope=col>wind_mph</th><th scope=col>wind_rating</th><th scope=col>prcp_mm</th><th scope=col>prcp_rating</th><th scope=col>year</th></tr>\n",
       "\t<tr><th scope=col>&lt;int&gt;</th><th scope=col>&lt;fct&gt;</th><th scope=col>&lt;fct&gt;</th><th scope=col>&lt;dbl&gt;</th><th scope=col>&lt;dbl&gt;</th><th scope=col>&lt;dbl&gt;</th><th scope=col>&lt;dbl&gt;</th><th scope=col>&lt;dbl&gt;</th><th scope=col>&lt;dbl&gt;</th><th scope=col>&lt;dbl&gt;</th><th scope=col>&lt;dbl&gt;</th><th scope=col>&lt;dbl&gt;</th><th scope=col>&lt;dbl&gt;</th><th scope=col>&lt;fct&gt;</th><th scope=col>&lt;dbl&gt;</th><th scope=col>&lt;int&gt;</th><th scope=col>&lt;dbl&gt;</th><th scope=col>&lt;int&gt;</th><th scope=col>&lt;int&gt;</th></tr>\n",
       "</thead>\n",
       "<tbody>\n",
       "\t<tr><td> 17</td><td>04-16-2015</td><td>GHCND:USW00093831</td><td> 20</td><td> 40</td><td> 76</td><td> 94</td><td>0</td><td>0</td><td>0</td><td>0</td><td>62</td><td>56</td><td>Harbour Town Golf Links - Hilton Head Island, SC</td><td>12</td><td>4</td><td> 0.0</td><td>0</td><td>2015</td></tr>\n",
       "\t<tr><td> 42</td><td>04-15-2016</td><td>GHCND:USW00093831</td><td> 30</td><td> 30</td><td> 76</td><td>107</td><td>0</td><td>0</td><td>0</td><td>0</td><td>61</td><td>52</td><td>Harbour Town Golf Links - Hilton Head Island, SC</td><td>12</td><td>4</td><td> 2.0</td><td>1</td><td>2016</td></tr>\n",
       "\t<tr><td> 43</td><td>04-16-2016</td><td>GHCND:USW00093831</td><td>110</td><td>100</td><td> 89</td><td>103</td><td>0</td><td>0</td><td>0</td><td>0</td><td>73</td><td>53</td><td>Harbour Town Golf Links - Hilton Head Island, SC</td><td>12</td><td>4</td><td> 0.0</td><td>0</td><td>2016</td></tr>\n",
       "\t<tr><td> 89</td><td>04-15-2018</td><td>GHCND:USW00093831</td><td>250</td><td>180</td><td>112</td><td>157</td><td>0</td><td>0</td><td>0</td><td>0</td><td>80</td><td>57</td><td>Harbour Town Golf Links - Hilton Head Island, SC</td><td>12</td><td>4</td><td>26.9</td><td>3</td><td>2018</td></tr>\n",
       "\t<tr><td>141</td><td>04-15-2019</td><td>GHCND:USW00093831</td><td>270</td><td>260</td><td>103</td><td>139</td><td>0</td><td>0</td><td>0</td><td>0</td><td>75</td><td>55</td><td>Harbour Town Golf Links - Hilton Head Island, SC</td><td>13</td><td>4</td><td> 0.0</td><td>0</td><td>2019</td></tr>\n",
       "\t<tr><td>145</td><td>04-19-2019</td><td>GHCND:USW00093831</td><td>210</td><td>210</td><td>174</td><td>233</td><td>0</td><td>0</td><td>0</td><td>0</td><td>79</td><td>59</td><td>Harbour Town Golf Links - Hilton Head Island, SC</td><td>15</td><td>4</td><td>14.5</td><td>3</td><td>2019</td></tr>\n",
       "</tbody>\n",
       "</table>\n"
      ],
      "text/latex": [
       "A data.frame: 6 × 19\n",
       "\\begin{tabular}{r|lllllllllllllllllll}\n",
       " X & date & station & wdf2 & wdf5 & wsf2 & wsf5 & wt01 & wt02 & wt03 & wt08 & fmax & fmin & course\\_location & wind\\_mph & wind\\_rating & prcp\\_mm & prcp\\_rating & year\\\\\n",
       " <int> & <fct> & <fct> & <dbl> & <dbl> & <dbl> & <dbl> & <dbl> & <dbl> & <dbl> & <dbl> & <dbl> & <dbl> & <fct> & <dbl> & <int> & <dbl> & <int> & <int>\\\\\n",
       "\\hline\n",
       "\t  17 & 04-16-2015 & GHCND:USW00093831 &  20 &  40 &  76 &  94 & 0 & 0 & 0 & 0 & 62 & 56 & Harbour Town Golf Links - Hilton Head Island, SC & 12 & 4 &  0.0 & 0 & 2015\\\\\n",
       "\t  42 & 04-15-2016 & GHCND:USW00093831 &  30 &  30 &  76 & 107 & 0 & 0 & 0 & 0 & 61 & 52 & Harbour Town Golf Links - Hilton Head Island, SC & 12 & 4 &  2.0 & 1 & 2016\\\\\n",
       "\t  43 & 04-16-2016 & GHCND:USW00093831 & 110 & 100 &  89 & 103 & 0 & 0 & 0 & 0 & 73 & 53 & Harbour Town Golf Links - Hilton Head Island, SC & 12 & 4 &  0.0 & 0 & 2016\\\\\n",
       "\t  89 & 04-15-2018 & GHCND:USW00093831 & 250 & 180 & 112 & 157 & 0 & 0 & 0 & 0 & 80 & 57 & Harbour Town Golf Links - Hilton Head Island, SC & 12 & 4 & 26.9 & 3 & 2018\\\\\n",
       "\t 141 & 04-15-2019 & GHCND:USW00093831 & 270 & 260 & 103 & 139 & 0 & 0 & 0 & 0 & 75 & 55 & Harbour Town Golf Links - Hilton Head Island, SC & 13 & 4 &  0.0 & 0 & 2019\\\\\n",
       "\t 145 & 04-19-2019 & GHCND:USW00093831 & 210 & 210 & 174 & 233 & 0 & 0 & 0 & 0 & 79 & 59 & Harbour Town Golf Links - Hilton Head Island, SC & 15 & 4 & 14.5 & 3 & 2019\\\\\n",
       "\\end{tabular}\n"
      ],
      "text/markdown": [
       "\n",
       "A data.frame: 6 × 19\n",
       "\n",
       "| X &lt;int&gt; | date &lt;fct&gt; | station &lt;fct&gt; | wdf2 &lt;dbl&gt; | wdf5 &lt;dbl&gt; | wsf2 &lt;dbl&gt; | wsf5 &lt;dbl&gt; | wt01 &lt;dbl&gt; | wt02 &lt;dbl&gt; | wt03 &lt;dbl&gt; | wt08 &lt;dbl&gt; | fmax &lt;dbl&gt; | fmin &lt;dbl&gt; | course_location &lt;fct&gt; | wind_mph &lt;dbl&gt; | wind_rating &lt;int&gt; | prcp_mm &lt;dbl&gt; | prcp_rating &lt;int&gt; | year &lt;int&gt; |\n",
       "|---|---|---|---|---|---|---|---|---|---|---|---|---|---|---|---|---|---|---|\n",
       "|  17 | 04-16-2015 | GHCND:USW00093831 |  20 |  40 |  76 |  94 | 0 | 0 | 0 | 0 | 62 | 56 | Harbour Town Golf Links - Hilton Head Island, SC | 12 | 4 |  0.0 | 0 | 2015 |\n",
       "|  42 | 04-15-2016 | GHCND:USW00093831 |  30 |  30 |  76 | 107 | 0 | 0 | 0 | 0 | 61 | 52 | Harbour Town Golf Links - Hilton Head Island, SC | 12 | 4 |  2.0 | 1 | 2016 |\n",
       "|  43 | 04-16-2016 | GHCND:USW00093831 | 110 | 100 |  89 | 103 | 0 | 0 | 0 | 0 | 73 | 53 | Harbour Town Golf Links - Hilton Head Island, SC | 12 | 4 |  0.0 | 0 | 2016 |\n",
       "|  89 | 04-15-2018 | GHCND:USW00093831 | 250 | 180 | 112 | 157 | 0 | 0 | 0 | 0 | 80 | 57 | Harbour Town Golf Links - Hilton Head Island, SC | 12 | 4 | 26.9 | 3 | 2018 |\n",
       "| 141 | 04-15-2019 | GHCND:USW00093831 | 270 | 260 | 103 | 139 | 0 | 0 | 0 | 0 | 75 | 55 | Harbour Town Golf Links - Hilton Head Island, SC | 13 | 4 |  0.0 | 0 | 2019 |\n",
       "| 145 | 04-19-2019 | GHCND:USW00093831 | 210 | 210 | 174 | 233 | 0 | 0 | 0 | 0 | 79 | 59 | Harbour Town Golf Links - Hilton Head Island, SC | 15 | 4 | 14.5 | 3 | 2019 |\n",
       "\n"
      ],
      "text/plain": [
       "  X   date       station           wdf2 wdf5 wsf2 wsf5 wt01 wt02 wt03 wt08 fmax\n",
       "1  17 04-16-2015 GHCND:USW00093831  20   40   76   94  0    0    0    0    62  \n",
       "2  42 04-15-2016 GHCND:USW00093831  30   30   76  107  0    0    0    0    61  \n",
       "3  43 04-16-2016 GHCND:USW00093831 110  100   89  103  0    0    0    0    73  \n",
       "4  89 04-15-2018 GHCND:USW00093831 250  180  112  157  0    0    0    0    80  \n",
       "5 141 04-15-2019 GHCND:USW00093831 270  260  103  139  0    0    0    0    75  \n",
       "6 145 04-19-2019 GHCND:USW00093831 210  210  174  233  0    0    0    0    79  \n",
       "  fmin course_location                                  wind_mph wind_rating\n",
       "1 56   Harbour Town Golf Links - Hilton Head Island, SC 12       4          \n",
       "2 52   Harbour Town Golf Links - Hilton Head Island, SC 12       4          \n",
       "3 53   Harbour Town Golf Links - Hilton Head Island, SC 12       4          \n",
       "4 57   Harbour Town Golf Links - Hilton Head Island, SC 12       4          \n",
       "5 55   Harbour Town Golf Links - Hilton Head Island, SC 13       4          \n",
       "6 59   Harbour Town Golf Links - Hilton Head Island, SC 15       4          \n",
       "  prcp_mm prcp_rating year\n",
       "1  0.0    0           2015\n",
       "2  2.0    1           2016\n",
       "3  0.0    0           2016\n",
       "4 26.9    3           2018\n",
       "5  0.0    0           2019\n",
       "6 14.5    3           2019"
      ]
     },
     "metadata": {},
     "output_type": "display_data"
    }
   ],
   "source": [
    "high_winds %>%\n",
    "filter(course_location == 'Harbour Town Golf Links - Hilton Head Island, SC')\n",
    "#the high winds came in 2015/2016/2018/2019"
   ]
  },
  {
   "cell_type": "code",
   "execution_count": 53,
   "metadata": {},
   "outputs": [
    {
     "data": {
      "text/html": [
       "<table>\n",
       "<caption>A grouped_df: 11 × 4</caption>\n",
       "<thead>\n",
       "\t<tr><th scope=col>date</th><th scope=col>course_location</th><th scope=col>wind_mph</th><th scope=col>max</th></tr>\n",
       "\t<tr><th scope=col>&lt;fct&gt;</th><th scope=col>&lt;fct&gt;</th><th scope=col>&lt;dbl&gt;</th><th scope=col>&lt;dbl&gt;</th></tr>\n",
       "</thead>\n",
       "<tbody>\n",
       "\t<tr><td>01-31-2016</td><td>Torrey Pines North - La Jolla, CA               </td><td>17</td><td>17</td></tr>\n",
       "\t<tr><td>02-01-2016</td><td>Torrey Pines North - La Jolla, CA               </td><td>14</td><td>14</td></tr>\n",
       "\t<tr><td>02-17-2019</td><td>Torrey Pines North - La Jolla, CA               </td><td>13</td><td>13</td></tr>\n",
       "\t<tr><td>03-12-2022</td><td>TPC Sawgrass - Ponte Vedra Beach, FL            </td><td>17</td><td>17</td></tr>\n",
       "\t<tr><td>04-14-2019</td><td>Augusta National Golf Club - Augusta, GA        </td><td>12</td><td>12</td></tr>\n",
       "\t<tr><td>04-15-2016</td><td>Harbour Town Golf Links - Hilton Head Island, SC</td><td>12</td><td>12</td></tr>\n",
       "\t<tr><td>04-15-2018</td><td>Harbour Town Golf Links - Hilton Head Island, SC</td><td>12</td><td>12</td></tr>\n",
       "\t<tr><td>04-15-2019</td><td>Harbour Town Golf Links - Hilton Head Island, SC</td><td>13</td><td>13</td></tr>\n",
       "\t<tr><td>04-16-2015</td><td>Harbour Town Golf Links - Hilton Head Island, SC</td><td>12</td><td>12</td></tr>\n",
       "\t<tr><td>04-16-2016</td><td>Harbour Town Golf Links - Hilton Head Island, SC</td><td>12</td><td>12</td></tr>\n",
       "\t<tr><td>04-19-2019</td><td>Harbour Town Golf Links - Hilton Head Island, SC</td><td>15</td><td>15</td></tr>\n",
       "</tbody>\n",
       "</table>\n"
      ],
      "text/latex": [
       "A grouped_df: 11 × 4\n",
       "\\begin{tabular}{r|llll}\n",
       " date & course\\_location & wind\\_mph & max\\\\\n",
       " <fct> & <fct> & <dbl> & <dbl>\\\\\n",
       "\\hline\n",
       "\t 01-31-2016 & Torrey Pines North - La Jolla, CA                & 17 & 17\\\\\n",
       "\t 02-01-2016 & Torrey Pines North - La Jolla, CA                & 14 & 14\\\\\n",
       "\t 02-17-2019 & Torrey Pines North - La Jolla, CA                & 13 & 13\\\\\n",
       "\t 03-12-2022 & TPC Sawgrass - Ponte Vedra Beach, FL             & 17 & 17\\\\\n",
       "\t 04-14-2019 & Augusta National Golf Club - Augusta, GA         & 12 & 12\\\\\n",
       "\t 04-15-2016 & Harbour Town Golf Links - Hilton Head Island, SC & 12 & 12\\\\\n",
       "\t 04-15-2018 & Harbour Town Golf Links - Hilton Head Island, SC & 12 & 12\\\\\n",
       "\t 04-15-2019 & Harbour Town Golf Links - Hilton Head Island, SC & 13 & 13\\\\\n",
       "\t 04-16-2015 & Harbour Town Golf Links - Hilton Head Island, SC & 12 & 12\\\\\n",
       "\t 04-16-2016 & Harbour Town Golf Links - Hilton Head Island, SC & 12 & 12\\\\\n",
       "\t 04-19-2019 & Harbour Town Golf Links - Hilton Head Island, SC & 15 & 15\\\\\n",
       "\\end{tabular}\n"
      ],
      "text/markdown": [
       "\n",
       "A grouped_df: 11 × 4\n",
       "\n",
       "| date &lt;fct&gt; | course_location &lt;fct&gt; | wind_mph &lt;dbl&gt; | max &lt;dbl&gt; |\n",
       "|---|---|---|---|\n",
       "| 01-31-2016 | Torrey Pines North - La Jolla, CA                | 17 | 17 |\n",
       "| 02-01-2016 | Torrey Pines North - La Jolla, CA                | 14 | 14 |\n",
       "| 02-17-2019 | Torrey Pines North - La Jolla, CA                | 13 | 13 |\n",
       "| 03-12-2022 | TPC Sawgrass - Ponte Vedra Beach, FL             | 17 | 17 |\n",
       "| 04-14-2019 | Augusta National Golf Club - Augusta, GA         | 12 | 12 |\n",
       "| 04-15-2016 | Harbour Town Golf Links - Hilton Head Island, SC | 12 | 12 |\n",
       "| 04-15-2018 | Harbour Town Golf Links - Hilton Head Island, SC | 12 | 12 |\n",
       "| 04-15-2019 | Harbour Town Golf Links - Hilton Head Island, SC | 13 | 13 |\n",
       "| 04-16-2015 | Harbour Town Golf Links - Hilton Head Island, SC | 12 | 12 |\n",
       "| 04-16-2016 | Harbour Town Golf Links - Hilton Head Island, SC | 12 | 12 |\n",
       "| 04-19-2019 | Harbour Town Golf Links - Hilton Head Island, SC | 15 | 15 |\n",
       "\n"
      ],
      "text/plain": [
       "   date       course_location                                  wind_mph max\n",
       "1  01-31-2016 Torrey Pines North - La Jolla, CA                17       17 \n",
       "2  02-01-2016 Torrey Pines North - La Jolla, CA                14       14 \n",
       "3  02-17-2019 Torrey Pines North - La Jolla, CA                13       13 \n",
       "4  03-12-2022 TPC Sawgrass - Ponte Vedra Beach, FL             17       17 \n",
       "5  04-14-2019 Augusta National Golf Club - Augusta, GA         12       12 \n",
       "6  04-15-2016 Harbour Town Golf Links - Hilton Head Island, SC 12       12 \n",
       "7  04-15-2018 Harbour Town Golf Links - Hilton Head Island, SC 12       12 \n",
       "8  04-15-2019 Harbour Town Golf Links - Hilton Head Island, SC 13       13 \n",
       "9  04-16-2015 Harbour Town Golf Links - Hilton Head Island, SC 12       12 \n",
       "10 04-16-2016 Harbour Town Golf Links - Hilton Head Island, SC 12       12 \n",
       "11 04-19-2019 Harbour Town Golf Links - Hilton Head Island, SC 15       15 "
      ]
     },
     "metadata": {},
     "output_type": "display_data"
    }
   ],
   "source": [
    "highest_winds <- high_winds %>%\n",
    "group_by(date,course_location,wind_mph) %>%\n",
    "summarise(max = max(wind_mph))\n",
    "#torreypines and TPC sawgradd each had exceptionally windy days \n",
    "#torreypines in 2016 and TPC sawgrass 2022\n",
    "#could look to see how they played on these windy days\n",
    "highest_winds"
   ]
  },
  {
   "cell_type": "code",
   "execution_count": 30,
   "metadata": {
    "scrolled": true
   },
   "outputs": [
    {
     "data": {
      "image/png": "[encoded data removed]",
      "text/plain": [
       "plot without title"
      ]
     },
     "metadata": {},
     "output_type": "display_data"
    }
   ],
   "source": [
    "rain_rating_bar <- ggplot(data=weather_df, aes(x=prcp_rating)) + geom_bar()\n",
    "rain_rating_bar\n",
    "#very few heavy rainy days - I expect this to also be hilton head "
   ]
  },
  {
   "cell_type": "code",
   "execution_count": 48,
   "metadata": {},
   "outputs": [
    {
     "data": {
      "text/html": [
       "18"
      ],
      "text/latex": [
       "18"
      ],
      "text/markdown": [
       "18"
      ],
      "text/plain": [
       "[1] 18"
      ]
     },
     "metadata": {},
     "output_type": "display_data"
    }
   ],
   "source": [
    "high_rain <- weather_df %>%\n",
    "filter(prcp_rating == 3)\n",
    "nrow(high_rain)\n",
    "#18 high days - lets see which locations got the rainy days"
   ]
  },
  {
   "cell_type": "code",
   "execution_count": 32,
   "metadata": {
    "scrolled": true
   },
   "outputs": [
    {
     "data": {
      "image/png": "[encoded data removed]",
      "text/plain": [
       "plot without title"
      ]
     },
     "metadata": {},
     "output_type": "display_data"
    }
   ],
   "source": [
    "ggplot(data=high_rain, aes(x=course_location)) + geom_bar() +\n",
    "theme(axis.text.x = element_text(angle=90))\n",
    "#rain is pretty evenly distributed - torrey pines got the most rainy days with 7"
   ]
  },
  {
   "cell_type": "code",
   "execution_count": 33,
   "metadata": {
    "scrolled": true
   },
   "outputs": [
    {
     "data": {
      "text/html": [
       "<table>\n",
       "<caption>A grouped_df: 18 × 4</caption>\n",
       "<thead>\n",
       "\t<tr><th scope=col>date</th><th scope=col>course_location</th><th scope=col>prcp_mm</th><th scope=col>max</th></tr>\n",
       "\t<tr><th scope=col>&lt;fct&gt;</th><th scope=col>&lt;fct&gt;</th><th scope=col>&lt;dbl&gt;</th><th scope=col>&lt;dbl&gt;</th></tr>\n",
       "</thead>\n",
       "<tbody>\n",
       "\t<tr><td>01-29-2021</td><td>Torrey Pines North - La Jolla, CA               </td><td>25.9</td><td>25.9</td></tr>\n",
       "\t<tr><td>01-30-2015</td><td>TPC Scottsdale - Scottsdale, AZ                 </td><td>11.4</td><td>11.4</td></tr>\n",
       "\t<tr><td>01-31-2016</td><td>Torrey Pines North - La Jolla, CA               </td><td>10.2</td><td>10.2</td></tr>\n",
       "\t<tr><td>01-31-2019</td><td>Torrey Pines North - La Jolla, CA               </td><td>13.7</td><td>13.7</td></tr>\n",
       "\t<tr><td>02-02-2019</td><td>Torrey Pines North - La Jolla, CA               </td><td>23.6</td><td>23.6</td></tr>\n",
       "\t<tr><td>02-04-2019</td><td>Torrey Pines North - La Jolla, CA               </td><td>19.8</td><td>19.8</td></tr>\n",
       "\t<tr><td>02-13-2019</td><td>Torrey Pines North - La Jolla, CA               </td><td>10.9</td><td>10.9</td></tr>\n",
       "\t<tr><td>02-14-2019</td><td>Torrey Pines North - La Jolla, CA               </td><td>37.1</td><td>37.1</td></tr>\n",
       "\t<tr><td>03-10-2022</td><td>TPC Sawgrass - Ponte Vedra Beach, FL            </td><td>25.7</td><td>25.7</td></tr>\n",
       "\t<tr><td>03-11-2022</td><td>TPC Sawgrass - Ponte Vedra Beach, FL            </td><td>28.7</td><td>28.7</td></tr>\n",
       "\t<tr><td>03-12-2022</td><td>TPC Sawgrass - Ponte Vedra Beach, FL            </td><td>20.6</td><td>20.6</td></tr>\n",
       "\t<tr><td>04-07-2022</td><td>Augusta National Golf Club - Augusta, GA        </td><td>30.0</td><td>30.0</td></tr>\n",
       "\t<tr><td>04-15-2015</td><td>Harbour Town Golf Links - Hilton Head Island, SC</td><td>36.6</td><td>36.6</td></tr>\n",
       "\t<tr><td>04-15-2018</td><td>Harbour Town Golf Links - Hilton Head Island, SC</td><td>26.9</td><td>26.9</td></tr>\n",
       "\t<tr><td>04-19-2015</td><td>Harbour Town Golf Links - Hilton Head Island, SC</td><td>18.3</td><td>18.3</td></tr>\n",
       "\t<tr><td>04-19-2019</td><td>Harbour Town Golf Links - Hilton Head Island, SC</td><td>14.5</td><td>14.5</td></tr>\n",
       "\t<tr><td>05-13-2017</td><td>TPC Sawgrass - Ponte Vedra Beach, FL            </td><td>14.7</td><td>14.7</td></tr>\n",
       "\t<tr><td>06-19-2020</td><td>Harbour Town Golf Links - Hilton Head Island, SC</td><td>41.4</td><td>41.4</td></tr>\n",
       "</tbody>\n",
       "</table>\n"
      ],
      "text/latex": [
       "A grouped_df: 18 × 4\n",
       "\\begin{tabular}{r|llll}\n",
       " date & course\\_location & prcp\\_mm & max\\\\\n",
       " <fct> & <fct> & <dbl> & <dbl>\\\\\n",
       "\\hline\n",
       "\t 01-29-2021 & Torrey Pines North - La Jolla, CA                & 25.9 & 25.9\\\\\n",
       "\t 01-30-2015 & TPC Scottsdale - Scottsdale, AZ                  & 11.4 & 11.4\\\\\n",
       "\t 01-31-2016 & Torrey Pines North - La Jolla, CA                & 10.2 & 10.2\\\\\n",
       "\t 01-31-2019 & Torrey Pines North - La Jolla, CA                & 13.7 & 13.7\\\\\n",
       "\t 02-02-2019 & Torrey Pines North - La Jolla, CA                & 23.6 & 23.6\\\\\n",
       "\t 02-04-2019 & Torrey Pines North - La Jolla, CA                & 19.8 & 19.8\\\\\n",
       "\t 02-13-2019 & Torrey Pines North - La Jolla, CA                & 10.9 & 10.9\\\\\n",
       "\t 02-14-2019 & Torrey Pines North - La Jolla, CA                & 37.1 & 37.1\\\\\n",
       "\t 03-10-2022 & TPC Sawgrass - Ponte Vedra Beach, FL             & 25.7 & 25.7\\\\\n",
       "\t 03-11-2022 & TPC Sawgrass - Ponte Vedra Beach, FL             & 28.7 & 28.7\\\\\n",
       "\t 03-12-2022 & TPC Sawgrass - Ponte Vedra Beach, FL             & 20.6 & 20.6\\\\\n",
       "\t 04-07-2022 & Augusta National Golf Club - Augusta, GA         & 30.0 & 30.0\\\\\n",
       "\t 04-15-2015 & Harbour Town Golf Links - Hilton Head Island, SC & 36.6 & 36.6\\\\\n",
       "\t 04-15-2018 & Harbour Town Golf Links - Hilton Head Island, SC & 26.9 & 26.9\\\\\n",
       "\t 04-19-2015 & Harbour Town Golf Links - Hilton Head Island, SC & 18.3 & 18.3\\\\\n",
       "\t 04-19-2019 & Harbour Town Golf Links - Hilton Head Island, SC & 14.5 & 14.5\\\\\n",
       "\t 05-13-2017 & TPC Sawgrass - Ponte Vedra Beach, FL             & 14.7 & 14.7\\\\\n",
       "\t 06-19-2020 & Harbour Town Golf Links - Hilton Head Island, SC & 41.4 & 41.4\\\\\n",
       "\\end{tabular}\n"
      ],
      "text/markdown": [
       "\n",
       "A grouped_df: 18 × 4\n",
       "\n",
       "| date &lt;fct&gt; | course_location &lt;fct&gt; | prcp_mm &lt;dbl&gt; | max &lt;dbl&gt; |\n",
       "|---|---|---|---|\n",
       "| 01-29-2021 | Torrey Pines North - La Jolla, CA                | 25.9 | 25.9 |\n",
       "| 01-30-2015 | TPC Scottsdale - Scottsdale, AZ                  | 11.4 | 11.4 |\n",
       "| 01-31-2016 | Torrey Pines North - La Jolla, CA                | 10.2 | 10.2 |\n",
       "| 01-31-2019 | Torrey Pines North - La Jolla, CA                | 13.7 | 13.7 |\n",
       "| 02-02-2019 | Torrey Pines North - La Jolla, CA                | 23.6 | 23.6 |\n",
       "| 02-04-2019 | Torrey Pines North - La Jolla, CA                | 19.8 | 19.8 |\n",
       "| 02-13-2019 | Torrey Pines North - La Jolla, CA                | 10.9 | 10.9 |\n",
       "| 02-14-2019 | Torrey Pines North - La Jolla, CA                | 37.1 | 37.1 |\n",
       "| 03-10-2022 | TPC Sawgrass - Ponte Vedra Beach, FL             | 25.7 | 25.7 |\n",
       "| 03-11-2022 | TPC Sawgrass - Ponte Vedra Beach, FL             | 28.7 | 28.7 |\n",
       "| 03-12-2022 | TPC Sawgrass - Ponte Vedra Beach, FL             | 20.6 | 20.6 |\n",
       "| 04-07-2022 | Augusta National Golf Club - Augusta, GA         | 30.0 | 30.0 |\n",
       "| 04-15-2015 | Harbour Town Golf Links - Hilton Head Island, SC | 36.6 | 36.6 |\n",
       "| 04-15-2018 | Harbour Town Golf Links - Hilton Head Island, SC | 26.9 | 26.9 |\n",
       "| 04-19-2015 | Harbour Town Golf Links - Hilton Head Island, SC | 18.3 | 18.3 |\n",
       "| 04-19-2019 | Harbour Town Golf Links - Hilton Head Island, SC | 14.5 | 14.5 |\n",
       "| 05-13-2017 | TPC Sawgrass - Ponte Vedra Beach, FL             | 14.7 | 14.7 |\n",
       "| 06-19-2020 | Harbour Town Golf Links - Hilton Head Island, SC | 41.4 | 41.4 |\n",
       "\n"
      ],
      "text/plain": [
       "   date       course_location                                  prcp_mm max \n",
       "1  01-29-2021 Torrey Pines North - La Jolla, CA                25.9    25.9\n",
       "2  01-30-2015 TPC Scottsdale - Scottsdale, AZ                  11.4    11.4\n",
       "3  01-31-2016 Torrey Pines North - La Jolla, CA                10.2    10.2\n",
       "4  01-31-2019 Torrey Pines North - La Jolla, CA                13.7    13.7\n",
       "5  02-02-2019 Torrey Pines North - La Jolla, CA                23.6    23.6\n",
       "6  02-04-2019 Torrey Pines North - La Jolla, CA                19.8    19.8\n",
       "7  02-13-2019 Torrey Pines North - La Jolla, CA                10.9    10.9\n",
       "8  02-14-2019 Torrey Pines North - La Jolla, CA                37.1    37.1\n",
       "9  03-10-2022 TPC Sawgrass - Ponte Vedra Beach, FL             25.7    25.7\n",
       "10 03-11-2022 TPC Sawgrass - Ponte Vedra Beach, FL             28.7    28.7\n",
       "11 03-12-2022 TPC Sawgrass - Ponte Vedra Beach, FL             20.6    20.6\n",
       "12 04-07-2022 Augusta National Golf Club - Augusta, GA         30.0    30.0\n",
       "13 04-15-2015 Harbour Town Golf Links - Hilton Head Island, SC 36.6    36.6\n",
       "14 04-15-2018 Harbour Town Golf Links - Hilton Head Island, SC 26.9    26.9\n",
       "15 04-19-2015 Harbour Town Golf Links - Hilton Head Island, SC 18.3    18.3\n",
       "16 04-19-2019 Harbour Town Golf Links - Hilton Head Island, SC 14.5    14.5\n",
       "17 05-13-2017 TPC Sawgrass - Ponte Vedra Beach, FL             14.7    14.7\n",
       "18 06-19-2020 Harbour Town Golf Links - Hilton Head Island, SC 41.4    41.4"
      ]
     },
     "metadata": {},
     "output_type": "display_data"
    }
   ],
   "source": [
    "high_rain %>%\n",
    "group_by(date,course_location,prcp_mm) %>%\n",
    "summarise(max = max(prcp_mm))\n",
    "#These are the days with heaviest rain - I can see a few dates with above 30mm of rain"
   ]
  },
  {
   "cell_type": "code",
   "execution_count": 34,
   "metadata": {},
   "outputs": [
    {
     "data": {
      "text/html": [
       "<table>\n",
       "<caption>A data.frame: 4 × 19</caption>\n",
       "<thead>\n",
       "\t<tr><th scope=col>X</th><th scope=col>date</th><th scope=col>station</th><th scope=col>wdf2</th><th scope=col>wdf5</th><th scope=col>wsf2</th><th scope=col>wsf5</th><th scope=col>wt01</th><th scope=col>wt02</th><th scope=col>wt03</th><th scope=col>wt08</th><th scope=col>fmax</th><th scope=col>fmin</th><th scope=col>course_location</th><th scope=col>wind_mph</th><th scope=col>wind_rating</th><th scope=col>prcp_mm</th><th scope=col>prcp_rating</th><th scope=col>year</th></tr>\n",
       "\t<tr><th scope=col>&lt;int&gt;</th><th scope=col>&lt;fct&gt;</th><th scope=col>&lt;fct&gt;</th><th scope=col>&lt;dbl&gt;</th><th scope=col>&lt;dbl&gt;</th><th scope=col>&lt;dbl&gt;</th><th scope=col>&lt;dbl&gt;</th><th scope=col>&lt;dbl&gt;</th><th scope=col>&lt;dbl&gt;</th><th scope=col>&lt;dbl&gt;</th><th scope=col>&lt;dbl&gt;</th><th scope=col>&lt;dbl&gt;</th><th scope=col>&lt;dbl&gt;</th><th scope=col>&lt;fct&gt;</th><th scope=col>&lt;dbl&gt;</th><th scope=col>&lt;int&gt;</th><th scope=col>&lt;dbl&gt;</th><th scope=col>&lt;int&gt;</th><th scope=col>&lt;int&gt;</th></tr>\n",
       "</thead>\n",
       "<tbody>\n",
       "\t<tr><td> 16</td><td>04-15-2015</td><td>GHCND:USW00093831</td><td>100</td><td>100</td><td>103</td><td>139</td><td>0</td><td>0</td><td>0</td><td>0</td><td>87</td><td>62</td><td>Harbour Town Golf Links - Hilton Head Island, SC</td><td> 6</td><td>2</td><td>36.6</td><td>3</td><td>2015</td></tr>\n",
       "\t<tr><td>119</td><td>02-14-2019</td><td>GHCND:USW00003131</td><td>260</td><td>170</td><td>125</td><td>179</td><td>1</td><td>0</td><td>0</td><td>0</td><td>63</td><td>52</td><td>Torrey Pines North - La Jolla, CA               </td><td>11</td><td>3</td><td>37.1</td><td>3</td><td>2019</td></tr>\n",
       "\t<tr><td>162</td><td>06-19-2020</td><td>GHCND:USW00093831</td><td>300</td><td>290</td><td>165</td><td>192</td><td>0</td><td>0</td><td>0</td><td>0</td><td>90</td><td>68</td><td>Harbour Town Golf Links - Hilton Head Island, SC</td><td> 4</td><td>2</td><td>41.4</td><td>3</td><td>2020</td></tr>\n",
       "\t<tr><td>213</td><td>04-07-2022</td><td>GHCND:USW00013837</td><td>110</td><td>250</td><td> 89</td><td>116</td><td>1</td><td>0</td><td>1</td><td>0</td><td>74</td><td>61</td><td>Augusta National Golf Club - Augusta, GA        </td><td> 6</td><td>2</td><td>30.0</td><td>3</td><td>2022</td></tr>\n",
       "</tbody>\n",
       "</table>\n"
      ],
      "text/latex": [
       "A data.frame: 4 × 19\n",
       "\\begin{tabular}{r|lllllllllllllllllll}\n",
       " X & date & station & wdf2 & wdf5 & wsf2 & wsf5 & wt01 & wt02 & wt03 & wt08 & fmax & fmin & course\\_location & wind\\_mph & wind\\_rating & prcp\\_mm & prcp\\_rating & year\\\\\n",
       " <int> & <fct> & <fct> & <dbl> & <dbl> & <dbl> & <dbl> & <dbl> & <dbl> & <dbl> & <dbl> & <dbl> & <dbl> & <fct> & <dbl> & <int> & <dbl> & <int> & <int>\\\\\n",
       "\\hline\n",
       "\t  16 & 04-15-2015 & GHCND:USW00093831 & 100 & 100 & 103 & 139 & 0 & 0 & 0 & 0 & 87 & 62 & Harbour Town Golf Links - Hilton Head Island, SC &  6 & 2 & 36.6 & 3 & 2015\\\\\n",
       "\t 119 & 02-14-2019 & GHCND:USW00003131 & 260 & 170 & 125 & 179 & 1 & 0 & 0 & 0 & 63 & 52 & Torrey Pines North - La Jolla, CA                & 11 & 3 & 37.1 & 3 & 2019\\\\\n",
       "\t 162 & 06-19-2020 & GHCND:USW00093831 & 300 & 290 & 165 & 192 & 0 & 0 & 0 & 0 & 90 & 68 & Harbour Town Golf Links - Hilton Head Island, SC &  4 & 2 & 41.4 & 3 & 2020\\\\\n",
       "\t 213 & 04-07-2022 & GHCND:USW00013837 & 110 & 250 &  89 & 116 & 1 & 0 & 1 & 0 & 74 & 61 & Augusta National Golf Club - Augusta, GA         &  6 & 2 & 30.0 & 3 & 2022\\\\\n",
       "\\end{tabular}\n"
      ],
      "text/markdown": [
       "\n",
       "A data.frame: 4 × 19\n",
       "\n",
       "| X &lt;int&gt; | date &lt;fct&gt; | station &lt;fct&gt; | wdf2 &lt;dbl&gt; | wdf5 &lt;dbl&gt; | wsf2 &lt;dbl&gt; | wsf5 &lt;dbl&gt; | wt01 &lt;dbl&gt; | wt02 &lt;dbl&gt; | wt03 &lt;dbl&gt; | wt08 &lt;dbl&gt; | fmax &lt;dbl&gt; | fmin &lt;dbl&gt; | course_location &lt;fct&gt; | wind_mph &lt;dbl&gt; | wind_rating &lt;int&gt; | prcp_mm &lt;dbl&gt; | prcp_rating &lt;int&gt; | year &lt;int&gt; |\n",
       "|---|---|---|---|---|---|---|---|---|---|---|---|---|---|---|---|---|---|---|\n",
       "|  16 | 04-15-2015 | GHCND:USW00093831 | 100 | 100 | 103 | 139 | 0 | 0 | 0 | 0 | 87 | 62 | Harbour Town Golf Links - Hilton Head Island, SC |  6 | 2 | 36.6 | 3 | 2015 |\n",
       "| 119 | 02-14-2019 | GHCND:USW00003131 | 260 | 170 | 125 | 179 | 1 | 0 | 0 | 0 | 63 | 52 | Torrey Pines North - La Jolla, CA                | 11 | 3 | 37.1 | 3 | 2019 |\n",
       "| 162 | 06-19-2020 | GHCND:USW00093831 | 300 | 290 | 165 | 192 | 0 | 0 | 0 | 0 | 90 | 68 | Harbour Town Golf Links - Hilton Head Island, SC |  4 | 2 | 41.4 | 3 | 2020 |\n",
       "| 213 | 04-07-2022 | GHCND:USW00013837 | 110 | 250 |  89 | 116 | 1 | 0 | 1 | 0 | 74 | 61 | Augusta National Golf Club - Augusta, GA         |  6 | 2 | 30.0 | 3 | 2022 |\n",
       "\n"
      ],
      "text/plain": [
       "  X   date       station           wdf2 wdf5 wsf2 wsf5 wt01 wt02 wt03 wt08 fmax\n",
       "1  16 04-15-2015 GHCND:USW00093831 100  100  103  139  0    0    0    0    87  \n",
       "2 119 02-14-2019 GHCND:USW00003131 260  170  125  179  1    0    0    0    63  \n",
       "3 162 06-19-2020 GHCND:USW00093831 300  290  165  192  0    0    0    0    90  \n",
       "4 213 04-07-2022 GHCND:USW00013837 110  250   89  116  1    0    1    0    74  \n",
       "  fmin course_location                                  wind_mph wind_rating\n",
       "1 62   Harbour Town Golf Links - Hilton Head Island, SC  6       2          \n",
       "2 52   Torrey Pines North - La Jolla, CA                11       3          \n",
       "3 68   Harbour Town Golf Links - Hilton Head Island, SC  4       2          \n",
       "4 61   Augusta National Golf Club - Augusta, GA          6       2          \n",
       "  prcp_mm prcp_rating year\n",
       "1 36.6    3           2015\n",
       "2 37.1    3           2019\n",
       "3 41.4    3           2020\n",
       "4 30.0    3           2022"
      ]
     },
     "metadata": {},
     "output_type": "display_data"
    }
   ],
   "source": [
    "rainy_days <- high_rain %>%\n",
    "filter(prcp_mm >= 30)\n",
    "rainy_days\n",
    "#these are the 4 rainiest days and 3 different locations \n",
    "#these dates are worth seeing how players performed\n",
    "#hilton head 2015/2020\n",
    "#torreypines 2019\n",
    "#augusta 2022\n",
    "#maybe compare performance for these dates against the other tourneys held at these locations"
   ]
  },
  {
   "cell_type": "code",
   "execution_count": 39,
   "metadata": {},
   "outputs": [
    {
     "data": {
      "text/html": [
       "<table>\n",
       "<caption>A data.frame: 1 × 1</caption>\n",
       "<thead>\n",
       "\t<tr><th scope=col>mean(fmax)</th></tr>\n",
       "\t<tr><th scope=col>&lt;dbl&gt;</th></tr>\n",
       "</thead>\n",
       "<tbody>\n",
       "\t<tr><td>73.21659</td></tr>\n",
       "</tbody>\n",
       "</table>\n"
      ],
      "text/latex": [
       "A data.frame: 1 × 1\n",
       "\\begin{tabular}{r|l}\n",
       " mean(fmax)\\\\\n",
       " <dbl>\\\\\n",
       "\\hline\n",
       "\t 73.21659\\\\\n",
       "\\end{tabular}\n"
      ],
      "text/markdown": [
       "\n",
       "A data.frame: 1 × 1\n",
       "\n",
       "| mean(fmax) &lt;dbl&gt; |\n",
       "|---|\n",
       "| 73.21659 |\n",
       "\n"
      ],
      "text/plain": [
       "  mean(fmax)\n",
       "1 73.21659  "
      ]
     },
     "metadata": {},
     "output_type": "display_data"
    }
   ],
   "source": [
    "mean_max_temp <- weather_df %>%\n",
    "summarise(mean(fmax))\n",
    "mean_max_temp\n",
    "#max temp is 73.2 fahrenheit"
   ]
  },
  {
   "cell_type": "code",
   "execution_count": 42,
   "metadata": {
    "scrolled": true
   },
   "outputs": [
    {
     "data": {
      "image/png": "[encoded data removed]",
      "text/plain": [
       "plot without title"
      ]
     },
     "metadata": {},
     "output_type": "display_data"
    }
   ],
   "source": [
    "#now to look at the hottest days \n",
    "ggplot(data=weather_df, aes(x=fmax,)) + geom_density() +\n",
    "geom_vline(xintercept = 73.2, size=1.5, color='red') +\n",
    "geom_vline(xintercept = 81, size=1.5, color='blue')\n",
    "#mean is a little low at 73.2, maybe look at the upper 75% of high temps"
   ]
  },
  {
   "cell_type": "code",
   "execution_count": 41,
   "metadata": {},
   "outputs": [
    {
     "data": {
      "text/html": [
       "<dl class=dl-horizontal>\n",
       "\t<dt>0%</dt>\n",
       "\t\t<dd>0</dd>\n",
       "\t<dt>25%</dt>\n",
       "\t\t<dd>67</dd>\n",
       "\t<dt>50%</dt>\n",
       "\t\t<dd>74</dd>\n",
       "\t<dt>75%</dt>\n",
       "\t\t<dd>81</dd>\n",
       "\t<dt>100%</dt>\n",
       "\t\t<dd>94</dd>\n",
       "</dl>\n"
      ],
      "text/latex": [
       "\\begin{description*}\n",
       "\\item[0\\textbackslash{}\\%] 0\n",
       "\\item[25\\textbackslash{}\\%] 67\n",
       "\\item[50\\textbackslash{}\\%] 74\n",
       "\\item[75\\textbackslash{}\\%] 81\n",
       "\\item[100\\textbackslash{}\\%] 94\n",
       "\\end{description*}\n"
      ],
      "text/markdown": [
       "0%\n",
       ":   025%\n",
       ":   6750%\n",
       ":   7475%\n",
       ":   81100%\n",
       ":   94\n",
       "\n"
      ],
      "text/plain": [
       "  0%  25%  50%  75% 100% \n",
       "   0   67   74   81   94 "
      ]
     },
     "metadata": {},
     "output_type": "display_data"
    }
   ],
   "source": [
    "quantile(weather_df$fmax) \n",
    "#this shows the max temp was 94 degrees and the top 75% is 81 degrees\n",
    "#this seems pretty low but I will still look at the top temps"
   ]
  },
  {
   "cell_type": "code",
   "execution_count": 46,
   "metadata": {},
   "outputs": [
    {
     "data": {
      "text/html": [
       "55"
      ],
      "text/latex": [
       "55"
      ],
      "text/markdown": [
       "55"
      ],
      "text/plain": [
       "[1] 55"
      ]
     },
     "metadata": {},
     "output_type": "display_data"
    }
   ],
   "source": [
    "high_temps <- weather_df %>%\n",
    "filter(fmax >= 81)\n",
    "nrow(high_temps)\n",
    "#55 days have a temp greater than or equal to 81 degrees \n",
    "#this is the top 25% of the weather data"
   ]
  },
  {
   "cell_type": "code",
   "execution_count": 45,
   "metadata": {},
   "outputs": [
    {
     "data": {
      "text/html": [
       "<table>\n",
       "<caption>A data.frame: 55 × 19</caption>\n",
       "<thead>\n",
       "\t<tr><th scope=col>X</th><th scope=col>date</th><th scope=col>station</th><th scope=col>wdf2</th><th scope=col>wdf5</th><th scope=col>wsf2</th><th scope=col>wsf5</th><th scope=col>wt01</th><th scope=col>wt02</th><th scope=col>wt03</th><th scope=col>wt08</th><th scope=col>fmax</th><th scope=col>fmin</th><th scope=col>course_location</th><th scope=col>wind_mph</th><th scope=col>wind_rating</th><th scope=col>prcp_mm</th><th scope=col>prcp_rating</th><th scope=col>year</th></tr>\n",
       "\t<tr><th scope=col>&lt;int&gt;</th><th scope=col>&lt;fct&gt;</th><th scope=col>&lt;fct&gt;</th><th scope=col>&lt;dbl&gt;</th><th scope=col>&lt;dbl&gt;</th><th scope=col>&lt;dbl&gt;</th><th scope=col>&lt;dbl&gt;</th><th scope=col>&lt;dbl&gt;</th><th scope=col>&lt;dbl&gt;</th><th scope=col>&lt;dbl&gt;</th><th scope=col>&lt;dbl&gt;</th><th scope=col>&lt;dbl&gt;</th><th scope=col>&lt;dbl&gt;</th><th scope=col>&lt;fct&gt;</th><th scope=col>&lt;dbl&gt;</th><th scope=col>&lt;int&gt;</th><th scope=col>&lt;dbl&gt;</th><th scope=col>&lt;int&gt;</th><th scope=col>&lt;int&gt;</th></tr>\n",
       "</thead>\n",
       "<tbody>\n",
       "\t<tr><td>  2</td><td>04-12-2014</td><td>GHCND:USW00013837</td><td>200</td><td>180</td><td> 54</td><td> 76</td><td>0</td><td>0</td><td>0</td><td>0</td><td>84</td><td>57</td><td>Augusta National Golf Club - Augusta, GA        </td><td> 4</td><td>2</td><td> 0.0</td><td>0</td><td>2014</td></tr>\n",
       "\t<tr><td>  3</td><td>04-13-2014</td><td>GHCND:USW00013837</td><td>130</td><td>130</td><td> 67</td><td> 81</td><td>0</td><td>0</td><td>0</td><td>0</td><td>82</td><td>58</td><td>Augusta National Golf Club - Augusta, GA        </td><td> 8</td><td>3</td><td> 0.0</td><td>0</td><td>2014</td></tr>\n",
       "\t<tr><td> 12</td><td>04-09-2015</td><td>GHCND:USW00013837</td><td>200</td><td>190</td><td> 72</td><td> 98</td><td>0</td><td>0</td><td>0</td><td>0</td><td>90</td><td>68</td><td>Augusta National Golf Club - Augusta, GA        </td><td> 8</td><td>3</td><td> 0.0</td><td>0</td><td>2015</td></tr>\n",
       "\t<tr><td> 13</td><td>04-10-2015</td><td>GHCND:USW00013837</td><td>210</td><td>210</td><td> 72</td><td>103</td><td>0</td><td>0</td><td>1</td><td>0</td><td>85</td><td>67</td><td>Augusta National Golf Club - Augusta, GA        </td><td> 8</td><td>3</td><td> 0.0</td><td>0</td><td>2015</td></tr>\n",
       "\t<tr><td> 14</td><td>04-11-2015</td><td>GHCND:USW00013837</td><td>360</td><td>250</td><td> 45</td><td> 67</td><td>1</td><td>0</td><td>0</td><td>0</td><td>83</td><td>68</td><td>Augusta National Golf Club - Augusta, GA        </td><td> 5</td><td>2</td><td> 0.5</td><td>1</td><td>2015</td></tr>\n",
       "\t<tr><td> 16</td><td>04-15-2015</td><td>GHCND:USW00093831</td><td>100</td><td>100</td><td>103</td><td>139</td><td>0</td><td>0</td><td>0</td><td>0</td><td>87</td><td>62</td><td>Harbour Town Golf Links - Hilton Head Island, SC</td><td> 6</td><td>2</td><td>36.6</td><td>3</td><td>2015</td></tr>\n",
       "\t<tr><td> 21</td><td>05-07-2015</td><td>GHCND:USW00053860</td><td>360</td><td> 20</td><td> 89</td><td>121</td><td>1</td><td>0</td><td>0</td><td>0</td><td>86</td><td>62</td><td>TPC Sawgrass - Ponte Vedra Beach, FL            </td><td>10</td><td>3</td><td> 2.0</td><td>1</td><td>2015</td></tr>\n",
       "\t<tr><td> 22</td><td>05-08-2015</td><td>GHCND:USW00053860</td><td>320</td><td>320</td><td> 72</td><td> 89</td><td>0</td><td>0</td><td>0</td><td>0</td><td>86</td><td>66</td><td>TPC Sawgrass - Ponte Vedra Beach, FL            </td><td> 7</td><td>3</td><td> 0.0</td><td>0</td><td>2015</td></tr>\n",
       "\t<tr><td> 23</td><td>05-09-2015</td><td>GHCND:USW00053860</td><td> 90</td><td> 90</td><td> 58</td><td> 67</td><td>1</td><td>0</td><td>0</td><td>0</td><td>86</td><td>65</td><td>TPC Sawgrass - Ponte Vedra Beach, FL            </td><td> 4</td><td>2</td><td> 0.0</td><td>0</td><td>2015</td></tr>\n",
       "\t<tr><td> 24</td><td>05-10-2015</td><td>GHCND:USW00053860</td><td>150</td><td>160</td><td> 72</td><td> 89</td><td>1</td><td>0</td><td>0</td><td>0</td><td>90</td><td>65</td><td>TPC Sawgrass - Ponte Vedra Beach, FL            </td><td> 6</td><td>2</td><td> 0.0</td><td>0</td><td>2015</td></tr>\n",
       "\t<tr><td> 45</td><td>05-12-2016</td><td>GHCND:USW00053860</td><td>140</td><td>140</td><td> 72</td><td> 89</td><td>0</td><td>0</td><td>0</td><td>0</td><td>87</td><td>63</td><td>TPC Sawgrass - Ponte Vedra Beach, FL            </td><td> 7</td><td>3</td><td> 0.0</td><td>0</td><td>2016</td></tr>\n",
       "\t<tr><td> 46</td><td>05-13-2016</td><td>GHCND:USW00053860</td><td>330</td><td>320</td><td>116</td><td>143</td><td>0</td><td>0</td><td>1</td><td>0</td><td>91</td><td>67</td><td>TPC Sawgrass - Ponte Vedra Beach, FL            </td><td> 6</td><td>2</td><td> 8.4</td><td>2</td><td>2016</td></tr>\n",
       "\t<tr><td> 47</td><td>05-14-2016</td><td>GHCND:USW00053860</td><td>240</td><td>270</td><td> 81</td><td>112</td><td>0</td><td>0</td><td>0</td><td>0</td><td>90</td><td>62</td><td>TPC Sawgrass - Ponte Vedra Beach, FL            </td><td> 7</td><td>3</td><td> 0.0</td><td>0</td><td>2016</td></tr>\n",
       "\t<tr><td> 48</td><td>05-15-2016</td><td>GHCND:USW00053860</td><td> 10</td><td> 10</td><td> 58</td><td> 67</td><td>0</td><td>0</td><td>0</td><td>0</td><td>81</td><td>58</td><td>TPC Sawgrass - Ponte Vedra Beach, FL            </td><td> 5</td><td>2</td><td> 0.0</td><td>0</td><td>2016</td></tr>\n",
       "\t<tr><td> 64</td><td>04-13-2017</td><td>GHCND:USW00093831</td><td>110</td><td>100</td><td> 54</td><td> 67</td><td>0</td><td>0</td><td>0</td><td>0</td><td>82</td><td>57</td><td>Harbour Town Golf Links - Hilton Head Island, SC</td><td> 3</td><td>2</td><td> 0.0</td><td>0</td><td>2017</td></tr>\n",
       "\t<tr><td> 65</td><td>04-14-2017</td><td>GHCND:USW00093831</td><td>110</td><td>110</td><td> 67</td><td> 85</td><td>0</td><td>0</td><td>0</td><td>0</td><td>81</td><td>59</td><td>Harbour Town Golf Links - Hilton Head Island, SC</td><td> 5</td><td>2</td><td> 0.0</td><td>0</td><td>2017</td></tr>\n",
       "\t<tr><td> 66</td><td>04-15-2017</td><td>GHCND:USW00093831</td><td>170</td><td>160</td><td> 40</td><td> 67</td><td>0</td><td>0</td><td>0</td><td>0</td><td>82</td><td>59</td><td>Harbour Town Golf Links - Hilton Head Island, SC</td><td> 3</td><td>2</td><td> 0.0</td><td>0</td><td>2017</td></tr>\n",
       "\t<tr><td> 68</td><td>05-11-2017</td><td>GHCND:USW00053860</td><td>230</td><td>240</td><td> 89</td><td>121</td><td>0</td><td>0</td><td>0</td><td>1</td><td>94</td><td>68</td><td>TPC Sawgrass - Ponte Vedra Beach, FL            </td><td>11</td><td>3</td><td> 0.0</td><td>0</td><td>2017</td></tr>\n",
       "\t<tr><td> 69</td><td>05-12-2017</td><td>GHCND:USW00053860</td><td>230</td><td>220</td><td>103</td><td>130</td><td>0</td><td>0</td><td>0</td><td>1</td><td>92</td><td>68</td><td>TPC Sawgrass - Ponte Vedra Beach, FL            </td><td>11</td><td>3</td><td> 0.0</td><td>0</td><td>2017</td></tr>\n",
       "\t<tr><td> 70</td><td>05-13-2017</td><td>GHCND:USW00053860</td><td>210</td><td>310</td><td>125</td><td>170</td><td>1</td><td>0</td><td>1</td><td>1</td><td>85</td><td>69</td><td>TPC Sawgrass - Ponte Vedra Beach, FL            </td><td> 9</td><td>3</td><td>14.7</td><td>3</td><td>2017</td></tr>\n",
       "\t<tr><td> 75</td><td>01-28-2018</td><td>GHCND:USW00003131</td><td>230</td><td>240</td><td> 54</td><td> 67</td><td>0</td><td>0</td><td>0</td><td>0</td><td>85</td><td>47</td><td>Torrey Pines North - La Jolla, CA               </td><td> 3</td><td>2</td><td> 0.0</td><td>0</td><td>2018</td></tr>\n",
       "\t<tr><td> 76</td><td>01-29-2018</td><td>GHCND:USW00003131</td><td>300</td><td>290</td><td> 63</td><td> 81</td><td>0</td><td>0</td><td>0</td><td>0</td><td>86</td><td>51</td><td>Torrey Pines North - La Jolla, CA               </td><td> 4</td><td>2</td><td> 0.0</td><td>0</td><td>2018</td></tr>\n",
       "\t<tr><td> 77</td><td>01-30-2018</td><td>GHCND:USW00003131</td><td>320</td><td>320</td><td> 45</td><td> 54</td><td>0</td><td>0</td><td>0</td><td>0</td><td>83</td><td>55</td><td>Torrey Pines North - La Jolla, CA               </td><td> 4</td><td>2</td><td> 0.0</td><td>0</td><td>2018</td></tr>\n",
       "\t<tr><td> 88</td><td>04-14-2018</td><td>GHCND:USW00093831</td><td>150</td><td>150</td><td> 76</td><td>112</td><td>0</td><td>0</td><td>0</td><td>0</td><td>81</td><td>60</td><td>Harbour Town Golf Links - Hilton Head Island, SC</td><td> 5</td><td>2</td><td> 0.0</td><td>0</td><td>2018</td></tr>\n",
       "\t<tr><td> 90</td><td>05-10-2018</td><td>GHCND:USW00053860</td><td>140</td><td>140</td><td> 67</td><td> 81</td><td>1</td><td>0</td><td>0</td><td>0</td><td>86</td><td>58</td><td>TPC Sawgrass - Ponte Vedra Beach, FL            </td><td> 5</td><td>2</td><td> 0.0</td><td>0</td><td>2018</td></tr>\n",
       "\t<tr><td> 91</td><td>05-11-2018</td><td>GHCND:USW00053860</td><td> 50</td><td> 80</td><td> 72</td><td> 94</td><td>0</td><td>0</td><td>0</td><td>0</td><td>92</td><td>67</td><td>TPC Sawgrass - Ponte Vedra Beach, FL            </td><td> 7</td><td>3</td><td> 0.0</td><td>0</td><td>2018</td></tr>\n",
       "\t<tr><td> 92</td><td>05-12-2018</td><td>GHCND:USW00053860</td><td>150</td><td>110</td><td> 72</td><td> 89</td><td>1</td><td>0</td><td>0</td><td>0</td><td>88</td><td>65</td><td>TPC Sawgrass - Ponte Vedra Beach, FL            </td><td> 5</td><td>2</td><td> 0.0</td><td>0</td><td>2018</td></tr>\n",
       "\t<tr><td> 93</td><td>05-13-2018</td><td>GHCND:USW00053860</td><td> 60</td><td> 90</td><td> 63</td><td> 81</td><td>0</td><td>0</td><td>0</td><td>0</td><td>84</td><td>62</td><td>TPC Sawgrass - Ponte Vedra Beach, FL            </td><td> 4</td><td>2</td><td> 0.0</td><td>0</td><td>2018</td></tr>\n",
       "\t<tr><td> 96</td><td>01-26-2019</td><td>GHCND:USW00003131</td><td>360</td><td> 20</td><td> 89</td><td>121</td><td>0</td><td>0</td><td>0</td><td>0</td><td>81</td><td>51</td><td>Torrey Pines North - La Jolla, CA               </td><td> 7</td><td>3</td><td> 0.0</td><td>0</td><td>2019</td></tr>\n",
       "\t<tr><td>134</td><td>03-15-2019</td><td>GHCND:USW00053860</td><td>220</td><td>220</td><td> 76</td><td> 94</td><td>0</td><td>0</td><td>0</td><td>0</td><td>85</td><td>60</td><td>TPC Sawgrass - Ponte Vedra Beach, FL            </td><td> 8</td><td>3</td><td> 0.0</td><td>0</td><td>2019</td></tr>\n",
       "\t<tr><td>137</td><td>04-11-2019</td><td>GHCND:USW00013837</td><td>140</td><td>120</td><td> 72</td><td> 98</td><td>1</td><td>0</td><td>0</td><td>0</td><td>85</td><td>61</td><td>Augusta National Golf Club - Augusta, GA        </td><td> 8</td><td>3</td><td> 0.0</td><td>0</td><td>2019</td></tr>\n",
       "\t<tr><td>138</td><td>04-12-2019</td><td>GHCND:USW00013837</td><td>210</td><td>260</td><td> 63</td><td>116</td><td>1</td><td>0</td><td>0</td><td>0</td><td>85</td><td>69</td><td>Augusta National Golf Club - Augusta, GA        </td><td> 6</td><td>2</td><td> 9.9</td><td>2</td><td>2019</td></tr>\n",
       "\t<tr><td>139</td><td>04-13-2019</td><td>GHCND:USW00013837</td><td>180</td><td>140</td><td> 54</td><td> 67</td><td>1</td><td>0</td><td>0</td><td>0</td><td>85</td><td>71</td><td>Augusta National Golf Club - Augusta, GA        </td><td> 6</td><td>2</td><td> 0.0</td><td>0</td><td>2019</td></tr>\n",
       "\t<tr><td>144</td><td>04-18-2019</td><td>GHCND:USW00093831</td><td>150</td><td>150</td><td> 89</td><td>116</td><td>0</td><td>0</td><td>0</td><td>0</td><td>81</td><td>58</td><td>Harbour Town Golf Links - Hilton Head Island, SC</td><td> 7</td><td>3</td><td> 0.0</td><td>0</td><td>2019</td></tr>\n",
       "\t<tr><td>157</td><td>03-12-2020</td><td>GHCND:USW00053860</td><td>150</td><td>150</td><td> 67</td><td> 81</td><td>0</td><td>0</td><td>0</td><td>0</td><td>81</td><td>57</td><td>TPC Sawgrass - Ponte Vedra Beach, FL            </td><td> 5</td><td>2</td><td> 0.0</td><td>0</td><td>2020</td></tr>\n",
       "\t<tr><td>158</td><td>03-13-2020</td><td>GHCND:USW00053860</td><td>260</td><td>240</td><td> 63</td><td> 81</td><td>0</td><td>0</td><td>0</td><td>0</td><td>85</td><td>57</td><td>TPC Sawgrass - Ponte Vedra Beach, FL            </td><td> 4</td><td>2</td><td> 0.0</td><td>0</td><td>2020</td></tr>\n",
       "\t<tr><td>159</td><td>03-14-2020</td><td>GHCND:USW00053860</td><td>140</td><td>140</td><td> 63</td><td> 81</td><td>1</td><td>0</td><td>0</td><td>0</td><td>84</td><td>58</td><td>TPC Sawgrass - Ponte Vedra Beach, FL            </td><td> 4</td><td>2</td><td> 0.0</td><td>0</td><td>2020</td></tr>\n",
       "\t<tr><td>160</td><td>03-15-2020</td><td>GHCND:USW00053860</td><td> 60</td><td> 30</td><td> 67</td><td> 85</td><td>1</td><td>0</td><td>0</td><td>0</td><td>88</td><td>61</td><td>TPC Sawgrass - Ponte Vedra Beach, FL            </td><td> 4</td><td>2</td><td> 0.0</td><td>0</td><td>2020</td></tr>\n",
       "\t<tr><td>161</td><td>06-18-2020</td><td>GHCND:USW00093831</td><td>110</td><td>110</td><td> 63</td><td> 89</td><td>0</td><td>0</td><td>0</td><td>0</td><td>86</td><td>62</td><td>Harbour Town Golf Links - Hilton Head Island, SC</td><td> 3</td><td>2</td><td> 0.0</td><td>0</td><td>2020</td></tr>\n",
       "\t<tr><td>162</td><td>06-19-2020</td><td>GHCND:USW00093831</td><td>300</td><td>290</td><td>165</td><td>192</td><td>0</td><td>0</td><td>0</td><td>0</td><td>90</td><td>68</td><td>Harbour Town Golf Links - Hilton Head Island, SC</td><td> 4</td><td>2</td><td>41.4</td><td>3</td><td>2020</td></tr>\n",
       "\t<tr><td>163</td><td>06-20-2020</td><td>GHCND:USW00093831</td><td>190</td><td>190</td><td> 45</td><td> 67</td><td>0</td><td>0</td><td>0</td><td>0</td><td>91</td><td>67</td><td>Harbour Town Golf Links - Hilton Head Island, SC</td><td> 4</td><td>2</td><td> 0.0</td><td>0</td><td>2020</td></tr>\n",
       "\t<tr><td>164</td><td>06-21-2020</td><td>GHCND:USW00093831</td><td>190</td><td>180</td><td> 58</td><td> 89</td><td>0</td><td>0</td><td>0</td><td>0</td><td>92</td><td>71</td><td>Harbour Town Golf Links - Hilton Head Island, SC</td><td> 4</td><td>2</td><td> 0.0</td><td>0</td><td>2020</td></tr>\n",
       "\t<tr><td>165</td><td>11-12-2020</td><td>GHCND:USW00013837</td><td>320</td><td>350</td><td> 81</td><td>116</td><td>1</td><td>1</td><td>1</td><td>0</td><td>83</td><td>69</td><td>Augusta National Golf Club - Augusta, GA        </td><td> 6</td><td>2</td><td> 8.9</td><td>2</td><td>2020</td></tr>\n",
       "\t<tr><td>174</td><td>02-02-2021</td><td>GHCND:USW00003192</td><td>150</td><td>160</td><td> 36</td><td> 49</td><td>0</td><td>0</td><td>0</td><td>0</td><td>82</td><td>55</td><td>TPC Scottsdale - Scottsdale, AZ                 </td><td> 2</td><td>1</td><td> 0.0</td><td>0</td><td>2021</td></tr>\n",
       "\t<tr><td>182</td><td>03-13-2021</td><td>GHCND:USW00053860</td><td>150</td><td>130</td><td> 63</td><td> 76</td><td>1</td><td>0</td><td>0</td><td>0</td><td>83</td><td>54</td><td>TPC Sawgrass - Ponte Vedra Beach, FL            </td><td> 5</td><td>2</td><td> 0.0</td><td>0</td><td>2021</td></tr>\n",
       "\t<tr><td>183</td><td>03-14-2021</td><td>GHCND:USW00053860</td><td>140</td><td>140</td><td> 63</td><td> 81</td><td>0</td><td>0</td><td>0</td><td>0</td><td>84</td><td>59</td><td>TPC Sawgrass - Ponte Vedra Beach, FL            </td><td> 6</td><td>2</td><td> 0.0</td><td>0</td><td>2021</td></tr>\n",
       "\t<tr><td>184</td><td>04-05-2021</td><td>GHCND:USW00013837</td><td>210</td><td>160</td><td> 45</td><td> 58</td><td>0</td><td>0</td><td>0</td><td>0</td><td>82</td><td>49</td><td>Augusta National Golf Club - Augusta, GA        </td><td> 2</td><td>1</td><td> 0.0</td><td>0</td><td>2021</td></tr>\n",
       "\t<tr><td>185</td><td>04-06-2021</td><td>GHCND:USW00013837</td><td>310</td><td>210</td><td> 58</td><td> 76</td><td>0</td><td>0</td><td>0</td><td>0</td><td>84</td><td>52</td><td>Augusta National Golf Club - Augusta, GA        </td><td> 3</td><td>2</td><td> 0.0</td><td>0</td><td>2021</td></tr>\n",
       "\t<tr><td>186</td><td>04-07-2021</td><td>GHCND:USW00013837</td><td>210</td><td>210</td><td> 54</td><td> 67</td><td>0</td><td>0</td><td>0</td><td>0</td><td>86</td><td>62</td><td>Augusta National Golf Club - Augusta, GA        </td><td> 4</td><td>2</td><td> 0.0</td><td>0</td><td>2021</td></tr>\n",
       "\t<tr><td>187</td><td>04-08-2021</td><td>GHCND:USW00013837</td><td>210</td><td>210</td><td> 76</td><td>103</td><td>0</td><td>0</td><td>0</td><td>0</td><td>81</td><td>59</td><td>Augusta National Golf Club - Augusta, GA        </td><td> 7</td><td>3</td><td> 0.0</td><td>0</td><td>2021</td></tr>\n",
       "\t<tr><td>191</td><td>04-12-2021</td><td>GHCND:USW00093831</td><td>250</td><td>250</td><td> 76</td><td>116</td><td>0</td><td>0</td><td>0</td><td>0</td><td>87</td><td>60</td><td>Harbour Town Golf Links - Hilton Head Island, SC</td><td> 9</td><td>3</td><td> 0.0</td><td>0</td><td>2021</td></tr>\n",
       "\t<tr><td>192</td><td>04-13-2021</td><td>GHCND:USW00093831</td><td>150</td><td>150</td><td> 54</td><td> 72</td><td>0</td><td>0</td><td>0</td><td>0</td><td>81</td><td>55</td><td>Harbour Town Golf Links - Hilton Head Island, SC</td><td> 6</td><td>2</td><td> 0.0</td><td>0</td><td>2021</td></tr>\n",
       "\t<tr><td>193</td><td>04-14-2021</td><td>GHCND:USW00093831</td><td>180</td><td>190</td><td> 81</td><td>130</td><td>0</td><td>0</td><td>0</td><td>0</td><td>82</td><td>56</td><td>Harbour Town Golf Links - Hilton Head Island, SC</td><td> 8</td><td>3</td><td> 0.0</td><td>0</td><td>2021</td></tr>\n",
       "\t<tr><td>197</td><td>04-18-2021</td><td>GHCND:USW00093831</td><td>250</td><td>240</td><td> 58</td><td> 81</td><td>0</td><td>0</td><td>0</td><td>0</td><td>82</td><td>63</td><td>Harbour Town Golf Links - Hilton Head Island, SC</td><td> 6</td><td>2</td><td> 0.0</td><td>0</td><td>2021</td></tr>\n",
       "\t<tr><td>208</td><td>02-13-2022</td><td>GHCND:USW00003192</td><td>190</td><td>190</td><td> 36</td><td> 45</td><td>0</td><td>0</td><td>0</td><td>0</td><td>81</td><td>46</td><td>TPC Scottsdale - Scottsdale, AZ                 </td><td> 2</td><td>1</td><td> 0.0</td><td>0</td><td>2022</td></tr>\n",
       "</tbody>\n",
       "</table>\n"
      ],
      "text/latex": [
       "A data.frame: 55 × 19\n",
       "\\begin{tabular}{r|lllllllllllllllllll}\n",
       " X & date & station & wdf2 & wdf5 & wsf2 & wsf5 & wt01 & wt02 & wt03 & wt08 & fmax & fmin & course\\_location & wind\\_mph & wind\\_rating & prcp\\_mm & prcp\\_rating & year\\\\\n",
       " <int> & <fct> & <fct> & <dbl> & <dbl> & <dbl> & <dbl> & <dbl> & <dbl> & <dbl> & <dbl> & <dbl> & <dbl> & <fct> & <dbl> & <int> & <dbl> & <int> & <int>\\\\\n",
       "\\hline\n",
       "\t   2 & 04-12-2014 & GHCND:USW00013837 & 200 & 180 &  54 &  76 & 0 & 0 & 0 & 0 & 84 & 57 & Augusta National Golf Club - Augusta, GA         &  4 & 2 &  0.0 & 0 & 2014\\\\\n",
       "\t   3 & 04-13-2014 & GHCND:USW00013837 & 130 & 130 &  67 &  81 & 0 & 0 & 0 & 0 & 82 & 58 & Augusta National Golf Club - Augusta, GA         &  8 & 3 &  0.0 & 0 & 2014\\\\\n",
       "\t  12 & 04-09-2015 & GHCND:USW00013837 & 200 & 190 &  72 &  98 & 0 & 0 & 0 & 0 & 90 & 68 & Augusta National Golf Club - Augusta, GA         &  8 & 3 &  0.0 & 0 & 2015\\\\\n",
       "\t  13 & 04-10-2015 & GHCND:USW00013837 & 210 & 210 &  72 & 103 & 0 & 0 & 1 & 0 & 85 & 67 & Augusta National Golf Club - Augusta, GA         &  8 & 3 &  0.0 & 0 & 2015\\\\\n",
       "\t  14 & 04-11-2015 & GHCND:USW00013837 & 360 & 250 &  45 &  67 & 1 & 0 & 0 & 0 & 83 & 68 & Augusta National Golf Club - Augusta, GA         &  5 & 2 &  0.5 & 1 & 2015\\\\\n",
       "\t  16 & 04-15-2015 & GHCND:USW00093831 & 100 & 100 & 103 & 139 & 0 & 0 & 0 & 0 & 87 & 62 & Harbour Town Golf Links - Hilton Head Island, SC &  6 & 2 & 36.6 & 3 & 2015\\\\\n",
       "\t  21 & 05-07-2015 & GHCND:USW00053860 & 360 &  20 &  89 & 121 & 1 & 0 & 0 & 0 & 86 & 62 & TPC Sawgrass - Ponte Vedra Beach, FL             & 10 & 3 &  2.0 & 1 & 2015\\\\\n",
       "\t  22 & 05-08-2015 & GHCND:USW00053860 & 320 & 320 &  72 &  89 & 0 & 0 & 0 & 0 & 86 & 66 & TPC Sawgrass - Ponte Vedra Beach, FL             &  7 & 3 &  0.0 & 0 & 2015\\\\\n",
       "\t  23 & 05-09-2015 & GHCND:USW00053860 &  90 &  90 &  58 &  67 & 1 & 0 & 0 & 0 & 86 & 65 & TPC Sawgrass - Ponte Vedra Beach, FL             &  4 & 2 &  0.0 & 0 & 2015\\\\\n",
       "\t  24 & 05-10-2015 & GHCND:USW00053860 & 150 & 160 &  72 &  89 & 1 & 0 & 0 & 0 & 90 & 65 & TPC Sawgrass - Ponte Vedra Beach, FL             &  6 & 2 &  0.0 & 0 & 2015\\\\\n",
       "\t  45 & 05-12-2016 & GHCND:USW00053860 & 140 & 140 &  72 &  89 & 0 & 0 & 0 & 0 & 87 & 63 & TPC Sawgrass - Ponte Vedra Beach, FL             &  7 & 3 &  0.0 & 0 & 2016\\\\\n",
       "\t  46 & 05-13-2016 & GHCND:USW00053860 & 330 & 320 & 116 & 143 & 0 & 0 & 1 & 0 & 91 & 67 & TPC Sawgrass - Ponte Vedra Beach, FL             &  6 & 2 &  8.4 & 2 & 2016\\\\\n",
       "\t  47 & 05-14-2016 & GHCND:USW00053860 & 240 & 270 &  81 & 112 & 0 & 0 & 0 & 0 & 90 & 62 & TPC Sawgrass - Ponte Vedra Beach, FL             &  7 & 3 &  0.0 & 0 & 2016\\\\\n",
       "\t  48 & 05-15-2016 & GHCND:USW00053860 &  10 &  10 &  58 &  67 & 0 & 0 & 0 & 0 & 81 & 58 & TPC Sawgrass - Ponte Vedra Beach, FL             &  5 & 2 &  0.0 & 0 & 2016\\\\\n",
       "\t  64 & 04-13-2017 & GHCND:USW00093831 & 110 & 100 &  54 &  67 & 0 & 0 & 0 & 0 & 82 & 57 & Harbour Town Golf Links - Hilton Head Island, SC &  3 & 2 &  0.0 & 0 & 2017\\\\\n",
       "\t  65 & 04-14-2017 & GHCND:USW00093831 & 110 & 110 &  67 &  85 & 0 & 0 & 0 & 0 & 81 & 59 & Harbour Town Golf Links - Hilton Head Island, SC &  5 & 2 &  0.0 & 0 & 2017\\\\\n",
       "\t  66 & 04-15-2017 & GHCND:USW00093831 & 170 & 160 &  40 &  67 & 0 & 0 & 0 & 0 & 82 & 59 & Harbour Town Golf Links - Hilton Head Island, SC &  3 & 2 &  0.0 & 0 & 2017\\\\\n",
       "\t  68 & 05-11-2017 & GHCND:USW00053860 & 230 & 240 &  89 & 121 & 0 & 0 & 0 & 1 & 94 & 68 & TPC Sawgrass - Ponte Vedra Beach, FL             & 11 & 3 &  0.0 & 0 & 2017\\\\\n",
       "\t  69 & 05-12-2017 & GHCND:USW00053860 & 230 & 220 & 103 & 130 & 0 & 0 & 0 & 1 & 92 & 68 & TPC Sawgrass - Ponte Vedra Beach, FL             & 11 & 3 &  0.0 & 0 & 2017\\\\\n",
       "\t  70 & 05-13-2017 & GHCND:USW00053860 & 210 & 310 & 125 & 170 & 1 & 0 & 1 & 1 & 85 & 69 & TPC Sawgrass - Ponte Vedra Beach, FL             &  9 & 3 & 14.7 & 3 & 2017\\\\\n",
       "\t  75 & 01-28-2018 & GHCND:USW00003131 & 230 & 240 &  54 &  67 & 0 & 0 & 0 & 0 & 85 & 47 & Torrey Pines North - La Jolla, CA                &  3 & 2 &  0.0 & 0 & 2018\\\\\n",
       "\t  76 & 01-29-2018 & GHCND:USW00003131 & 300 & 290 &  63 &  81 & 0 & 0 & 0 & 0 & 86 & 51 & Torrey Pines North - La Jolla, CA                &  4 & 2 &  0.0 & 0 & 2018\\\\\n",
       "\t  77 & 01-30-2018 & GHCND:USW00003131 & 320 & 320 &  45 &  54 & 0 & 0 & 0 & 0 & 83 & 55 & Torrey Pines North - La Jolla, CA                &  4 & 2 &  0.0 & 0 & 2018\\\\\n",
       "\t  88 & 04-14-2018 & GHCND:USW00093831 & 150 & 150 &  76 & 112 & 0 & 0 & 0 & 0 & 81 & 60 & Harbour Town Golf Links - Hilton Head Island, SC &  5 & 2 &  0.0 & 0 & 2018\\\\\n",
       "\t  90 & 05-10-2018 & GHCND:USW00053860 & 140 & 140 &  67 &  81 & 1 & 0 & 0 & 0 & 86 & 58 & TPC Sawgrass - Ponte Vedra Beach, FL             &  5 & 2 &  0.0 & 0 & 2018\\\\\n",
       "\t  91 & 05-11-2018 & GHCND:USW00053860 &  50 &  80 &  72 &  94 & 0 & 0 & 0 & 0 & 92 & 67 & TPC Sawgrass - Ponte Vedra Beach, FL             &  7 & 3 &  0.0 & 0 & 2018\\\\\n",
       "\t  92 & 05-12-2018 & GHCND:USW00053860 & 150 & 110 &  72 &  89 & 1 & 0 & 0 & 0 & 88 & 65 & TPC Sawgrass - Ponte Vedra Beach, FL             &  5 & 2 &  0.0 & 0 & 2018\\\\\n",
       "\t  93 & 05-13-2018 & GHCND:USW00053860 &  60 &  90 &  63 &  81 & 0 & 0 & 0 & 0 & 84 & 62 & TPC Sawgrass - Ponte Vedra Beach, FL             &  4 & 2 &  0.0 & 0 & 2018\\\\\n",
       "\t  96 & 01-26-2019 & GHCND:USW00003131 & 360 &  20 &  89 & 121 & 0 & 0 & 0 & 0 & 81 & 51 & Torrey Pines North - La Jolla, CA                &  7 & 3 &  0.0 & 0 & 2019\\\\\n",
       "\t 134 & 03-15-2019 & GHCND:USW00053860 & 220 & 220 &  76 &  94 & 0 & 0 & 0 & 0 & 85 & 60 & TPC Sawgrass - Ponte Vedra Beach, FL             &  8 & 3 &  0.0 & 0 & 2019\\\\\n",
       "\t 137 & 04-11-2019 & GHCND:USW00013837 & 140 & 120 &  72 &  98 & 1 & 0 & 0 & 0 & 85 & 61 & Augusta National Golf Club - Augusta, GA         &  8 & 3 &  0.0 & 0 & 2019\\\\\n",
       "\t 138 & 04-12-2019 & GHCND:USW00013837 & 210 & 260 &  63 & 116 & 1 & 0 & 0 & 0 & 85 & 69 & Augusta National Golf Club - Augusta, GA         &  6 & 2 &  9.9 & 2 & 2019\\\\\n",
       "\t 139 & 04-13-2019 & GHCND:USW00013837 & 180 & 140 &  54 &  67 & 1 & 0 & 0 & 0 & 85 & 71 & Augusta National Golf Club - Augusta, GA         &  6 & 2 &  0.0 & 0 & 2019\\\\\n",
       "\t 144 & 04-18-2019 & GHCND:USW00093831 & 150 & 150 &  89 & 116 & 0 & 0 & 0 & 0 & 81 & 58 & Harbour Town Golf Links - Hilton Head Island, SC &  7 & 3 &  0.0 & 0 & 2019\\\\\n",
       "\t 157 & 03-12-2020 & GHCND:USW00053860 & 150 & 150 &  67 &  81 & 0 & 0 & 0 & 0 & 81 & 57 & TPC Sawgrass - Ponte Vedra Beach, FL             &  5 & 2 &  0.0 & 0 & 2020\\\\\n",
       "\t 158 & 03-13-2020 & GHCND:USW00053860 & 260 & 240 &  63 &  81 & 0 & 0 & 0 & 0 & 85 & 57 & TPC Sawgrass - Ponte Vedra Beach, FL             &  4 & 2 &  0.0 & 0 & 2020\\\\\n",
       "\t 159 & 03-14-2020 & GHCND:USW00053860 & 140 & 140 &  63 &  81 & 1 & 0 & 0 & 0 & 84 & 58 & TPC Sawgrass - Ponte Vedra Beach, FL             &  4 & 2 &  0.0 & 0 & 2020\\\\\n",
       "\t 160 & 03-15-2020 & GHCND:USW00053860 &  60 &  30 &  67 &  85 & 1 & 0 & 0 & 0 & 88 & 61 & TPC Sawgrass - Ponte Vedra Beach, FL             &  4 & 2 &  0.0 & 0 & 2020\\\\\n",
       "\t 161 & 06-18-2020 & GHCND:USW00093831 & 110 & 110 &  63 &  89 & 0 & 0 & 0 & 0 & 86 & 62 & Harbour Town Golf Links - Hilton Head Island, SC &  3 & 2 &  0.0 & 0 & 2020\\\\\n",
       "\t 162 & 06-19-2020 & GHCND:USW00093831 & 300 & 290 & 165 & 192 & 0 & 0 & 0 & 0 & 90 & 68 & Harbour Town Golf Links - Hilton Head Island, SC &  4 & 2 & 41.4 & 3 & 2020\\\\\n",
       "\t 163 & 06-20-2020 & GHCND:USW00093831 & 190 & 190 &  45 &  67 & 0 & 0 & 0 & 0 & 91 & 67 & Harbour Town Golf Links - Hilton Head Island, SC &  4 & 2 &  0.0 & 0 & 2020\\\\\n",
       "\t 164 & 06-21-2020 & GHCND:USW00093831 & 190 & 180 &  58 &  89 & 0 & 0 & 0 & 0 & 92 & 71 & Harbour Town Golf Links - Hilton Head Island, SC &  4 & 2 &  0.0 & 0 & 2020\\\\\n",
       "\t 165 & 11-12-2020 & GHCND:USW00013837 & 320 & 350 &  81 & 116 & 1 & 1 & 1 & 0 & 83 & 69 & Augusta National Golf Club - Augusta, GA         &  6 & 2 &  8.9 & 2 & 2020\\\\\n",
       "\t 174 & 02-02-2021 & GHCND:USW00003192 & 150 & 160 &  36 &  49 & 0 & 0 & 0 & 0 & 82 & 55 & TPC Scottsdale - Scottsdale, AZ                  &  2 & 1 &  0.0 & 0 & 2021\\\\\n",
       "\t 182 & 03-13-2021 & GHCND:USW00053860 & 150 & 130 &  63 &  76 & 1 & 0 & 0 & 0 & 83 & 54 & TPC Sawgrass - Ponte Vedra Beach, FL             &  5 & 2 &  0.0 & 0 & 2021\\\\\n",
       "\t 183 & 03-14-2021 & GHCND:USW00053860 & 140 & 140 &  63 &  81 & 0 & 0 & 0 & 0 & 84 & 59 & TPC Sawgrass - Ponte Vedra Beach, FL             &  6 & 2 &  0.0 & 0 & 2021\\\\\n",
       "\t 184 & 04-05-2021 & GHCND:USW00013837 & 210 & 160 &  45 &  58 & 0 & 0 & 0 & 0 & 82 & 49 & Augusta National Golf Club - Augusta, GA         &  2 & 1 &  0.0 & 0 & 2021\\\\\n",
       "\t 185 & 04-06-2021 & GHCND:USW00013837 & 310 & 210 &  58 &  76 & 0 & 0 & 0 & 0 & 84 & 52 & Augusta National Golf Club - Augusta, GA         &  3 & 2 &  0.0 & 0 & 2021\\\\\n",
       "\t 186 & 04-07-2021 & GHCND:USW00013837 & 210 & 210 &  54 &  67 & 0 & 0 & 0 & 0 & 86 & 62 & Augusta National Golf Club - Augusta, GA         &  4 & 2 &  0.0 & 0 & 2021\\\\\n",
       "\t 187 & 04-08-2021 & GHCND:USW00013837 & 210 & 210 &  76 & 103 & 0 & 0 & 0 & 0 & 81 & 59 & Augusta National Golf Club - Augusta, GA         &  7 & 3 &  0.0 & 0 & 2021\\\\\n",
       "\t 191 & 04-12-2021 & GHCND:USW00093831 & 250 & 250 &  76 & 116 & 0 & 0 & 0 & 0 & 87 & 60 & Harbour Town Golf Links - Hilton Head Island, SC &  9 & 3 &  0.0 & 0 & 2021\\\\\n",
       "\t 192 & 04-13-2021 & GHCND:USW00093831 & 150 & 150 &  54 &  72 & 0 & 0 & 0 & 0 & 81 & 55 & Harbour Town Golf Links - Hilton Head Island, SC &  6 & 2 &  0.0 & 0 & 2021\\\\\n",
       "\t 193 & 04-14-2021 & GHCND:USW00093831 & 180 & 190 &  81 & 130 & 0 & 0 & 0 & 0 & 82 & 56 & Harbour Town Golf Links - Hilton Head Island, SC &  8 & 3 &  0.0 & 0 & 2021\\\\\n",
       "\t 197 & 04-18-2021 & GHCND:USW00093831 & 250 & 240 &  58 &  81 & 0 & 0 & 0 & 0 & 82 & 63 & Harbour Town Golf Links - Hilton Head Island, SC &  6 & 2 &  0.0 & 0 & 2021\\\\\n",
       "\t 208 & 02-13-2022 & GHCND:USW00003192 & 190 & 190 &  36 &  45 & 0 & 0 & 0 & 0 & 81 & 46 & TPC Scottsdale - Scottsdale, AZ                  &  2 & 1 &  0.0 & 0 & 2022\\\\\n",
       "\\end{tabular}\n"
      ],
      "text/markdown": [
       "\n",
       "A data.frame: 55 × 19\n",
       "\n",
       "| X &lt;int&gt; | date &lt;fct&gt; | station &lt;fct&gt; | wdf2 &lt;dbl&gt; | wdf5 &lt;dbl&gt; | wsf2 &lt;dbl&gt; | wsf5 &lt;dbl&gt; | wt01 &lt;dbl&gt; | wt02 &lt;dbl&gt; | wt03 &lt;dbl&gt; | wt08 &lt;dbl&gt; | fmax &lt;dbl&gt; | fmin &lt;dbl&gt; | course_location &lt;fct&gt; | wind_mph &lt;dbl&gt; | wind_rating &lt;int&gt; | prcp_mm &lt;dbl&gt; | prcp_rating &lt;int&gt; | year &lt;int&gt; |\n",
       "|---|---|---|---|---|---|---|---|---|---|---|---|---|---|---|---|---|---|---|\n",
       "|   2 | 04-12-2014 | GHCND:USW00013837 | 200 | 180 |  54 |  76 | 0 | 0 | 0 | 0 | 84 | 57 | Augusta National Golf Club - Augusta, GA         |  4 | 2 |  0.0 | 0 | 2014 |\n",
       "|   3 | 04-13-2014 | GHCND:USW00013837 | 130 | 130 |  67 |  81 | 0 | 0 | 0 | 0 | 82 | 58 | Augusta National Golf Club - Augusta, GA         |  8 | 3 |  0.0 | 0 | 2014 |\n",
       "|  12 | 04-09-2015 | GHCND:USW00013837 | 200 | 190 |  72 |  98 | 0 | 0 | 0 | 0 | 90 | 68 | Augusta National Golf Club - Augusta, GA         |  8 | 3 |  0.0 | 0 | 2015 |\n",
       "|  13 | 04-10-2015 | GHCND:USW00013837 | 210 | 210 |  72 | 103 | 0 | 0 | 1 | 0 | 85 | 67 | Augusta National Golf Club - Augusta, GA         |  8 | 3 |  0.0 | 0 | 2015 |\n",
       "|  14 | 04-11-2015 | GHCND:USW00013837 | 360 | 250 |  45 |  67 | 1 | 0 | 0 | 0 | 83 | 68 | Augusta National Golf Club - Augusta, GA         |  5 | 2 |  0.5 | 1 | 2015 |\n",
       "|  16 | 04-15-2015 | GHCND:USW00093831 | 100 | 100 | 103 | 139 | 0 | 0 | 0 | 0 | 87 | 62 | Harbour Town Golf Links - Hilton Head Island, SC |  6 | 2 | 36.6 | 3 | 2015 |\n",
       "|  21 | 05-07-2015 | GHCND:USW00053860 | 360 |  20 |  89 | 121 | 1 | 0 | 0 | 0 | 86 | 62 | TPC Sawgrass - Ponte Vedra Beach, FL             | 10 | 3 |  2.0 | 1 | 2015 |\n",
       "|  22 | 05-08-2015 | GHCND:USW00053860 | 320 | 320 |  72 |  89 | 0 | 0 | 0 | 0 | 86 | 66 | TPC Sawgrass - Ponte Vedra Beach, FL             |  7 | 3 |  0.0 | 0 | 2015 |\n",
       "|  23 | 05-09-2015 | GHCND:USW00053860 |  90 |  90 |  58 |  67 | 1 | 0 | 0 | 0 | 86 | 65 | TPC Sawgrass - Ponte Vedra Beach, FL             |  4 | 2 |  0.0 | 0 | 2015 |\n",
       "|  24 | 05-10-2015 | GHCND:USW00053860 | 150 | 160 |  72 |  89 | 1 | 0 | 0 | 0 | 90 | 65 | TPC Sawgrass - Ponte Vedra Beach, FL             |  6 | 2 |  0.0 | 0 | 2015 |\n",
       "|  45 | 05-12-2016 | GHCND:USW00053860 | 140 | 140 |  72 |  89 | 0 | 0 | 0 | 0 | 87 | 63 | TPC Sawgrass - Ponte Vedra Beach, FL             |  7 | 3 |  0.0 | 0 | 2016 |\n",
       "|  46 | 05-13-2016 | GHCND:USW00053860 | 330 | 320 | 116 | 143 | 0 | 0 | 1 | 0 | 91 | 67 | TPC Sawgrass - Ponte Vedra Beach, FL             |  6 | 2 |  8.4 | 2 | 2016 |\n",
       "|  47 | 05-14-2016 | GHCND:USW00053860 | 240 | 270 |  81 | 112 | 0 | 0 | 0 | 0 | 90 | 62 | TPC Sawgrass - Ponte Vedra Beach, FL             |  7 | 3 |  0.0 | 0 | 2016 |\n",
       "|  48 | 05-15-2016 | GHCND:USW00053860 |  10 |  10 |  58 |  67 | 0 | 0 | 0 | 0 | 81 | 58 | TPC Sawgrass - Ponte Vedra Beach, FL             |  5 | 2 |  0.0 | 0 | 2016 |\n",
       "|  64 | 04-13-2017 | GHCND:USW00093831 | 110 | 100 |  54 |  67 | 0 | 0 | 0 | 0 | 82 | 57 | Harbour Town Golf Links - Hilton Head Island, SC |  3 | 2 |  0.0 | 0 | 2017 |\n",
       "|  65 | 04-14-2017 | GHCND:USW00093831 | 110 | 110 |  67 |  85 | 0 | 0 | 0 | 0 | 81 | 59 | Harbour Town Golf Links - Hilton Head Island, SC |  5 | 2 |  0.0 | 0 | 2017 |\n",
       "|  66 | 04-15-2017 | GHCND:USW00093831 | 170 | 160 |  40 |  67 | 0 | 0 | 0 | 0 | 82 | 59 | Harbour Town Golf Links - Hilton Head Island, SC |  3 | 2 |  0.0 | 0 | 2017 |\n",
       "|  68 | 05-11-2017 | GHCND:USW00053860 | 230 | 240 |  89 | 121 | 0 | 0 | 0 | 1 | 94 | 68 | TPC Sawgrass - Ponte Vedra Beach, FL             | 11 | 3 |  0.0 | 0 | 2017 |\n",
       "|  69 | 05-12-2017 | GHCND:USW00053860 | 230 | 220 | 103 | 130 | 0 | 0 | 0 | 1 | 92 | 68 | TPC Sawgrass - Ponte Vedra Beach, FL             | 11 | 3 |  0.0 | 0 | 2017 |\n",
       "|  70 | 05-13-2017 | GHCND:USW00053860 | 210 | 310 | 125 | 170 | 1 | 0 | 1 | 1 | 85 | 69 | TPC Sawgrass - Ponte Vedra Beach, FL             |  9 | 3 | 14.7 | 3 | 2017 |\n",
       "|  75 | 01-28-2018 | GHCND:USW00003131 | 230 | 240 |  54 |  67 | 0 | 0 | 0 | 0 | 85 | 47 | Torrey Pines North - La Jolla, CA                |  3 | 2 |  0.0 | 0 | 2018 |\n",
       "|  76 | 01-29-2018 | GHCND:USW00003131 | 300 | 290 |  63 |  81 | 0 | 0 | 0 | 0 | 86 | 51 | Torrey Pines North - La Jolla, CA                |  4 | 2 |  0.0 | 0 | 2018 |\n",
       "|  77 | 01-30-2018 | GHCND:USW00003131 | 320 | 320 |  45 |  54 | 0 | 0 | 0 | 0 | 83 | 55 | Torrey Pines North - La Jolla, CA                |  4 | 2 |  0.0 | 0 | 2018 |\n",
       "|  88 | 04-14-2018 | GHCND:USW00093831 | 150 | 150 |  76 | 112 | 0 | 0 | 0 | 0 | 81 | 60 | Harbour Town Golf Links - Hilton Head Island, SC |  5 | 2 |  0.0 | 0 | 2018 |\n",
       "|  90 | 05-10-2018 | GHCND:USW00053860 | 140 | 140 |  67 |  81 | 1 | 0 | 0 | 0 | 86 | 58 | TPC Sawgrass - Ponte Vedra Beach, FL             |  5 | 2 |  0.0 | 0 | 2018 |\n",
       "|  91 | 05-11-2018 | GHCND:USW00053860 |  50 |  80 |  72 |  94 | 0 | 0 | 0 | 0 | 92 | 67 | TPC Sawgrass - Ponte Vedra Beach, FL             |  7 | 3 |  0.0 | 0 | 2018 |\n",
       "|  92 | 05-12-2018 | GHCND:USW00053860 | 150 | 110 |  72 |  89 | 1 | 0 | 0 | 0 | 88 | 65 | TPC Sawgrass - Ponte Vedra Beach, FL             |  5 | 2 |  0.0 | 0 | 2018 |\n",
       "|  93 | 05-13-2018 | GHCND:USW00053860 |  60 |  90 |  63 |  81 | 0 | 0 | 0 | 0 | 84 | 62 | TPC Sawgrass - Ponte Vedra Beach, FL             |  4 | 2 |  0.0 | 0 | 2018 |\n",
       "|  96 | 01-26-2019 | GHCND:USW00003131 | 360 |  20 |  89 | 121 | 0 | 0 | 0 | 0 | 81 | 51 | Torrey Pines North - La Jolla, CA                |  7 | 3 |  0.0 | 0 | 2019 |\n",
       "| 134 | 03-15-2019 | GHCND:USW00053860 | 220 | 220 |  76 |  94 | 0 | 0 | 0 | 0 | 85 | 60 | TPC Sawgrass - Ponte Vedra Beach, FL             |  8 | 3 |  0.0 | 0 | 2019 |\n",
       "| 137 | 04-11-2019 | GHCND:USW00013837 | 140 | 120 |  72 |  98 | 1 | 0 | 0 | 0 | 85 | 61 | Augusta National Golf Club - Augusta, GA         |  8 | 3 |  0.0 | 0 | 2019 |\n",
       "| 138 | 04-12-2019 | GHCND:USW00013837 | 210 | 260 |  63 | 116 | 1 | 0 | 0 | 0 | 85 | 69 | Augusta National Golf Club - Augusta, GA         |  6 | 2 |  9.9 | 2 | 2019 |\n",
       "| 139 | 04-13-2019 | GHCND:USW00013837 | 180 | 140 |  54 |  67 | 1 | 0 | 0 | 0 | 85 | 71 | Augusta National Golf Club - Augusta, GA         |  6 | 2 |  0.0 | 0 | 2019 |\n",
       "| 144 | 04-18-2019 | GHCND:USW00093831 | 150 | 150 |  89 | 116 | 0 | 0 | 0 | 0 | 81 | 58 | Harbour Town Golf Links - Hilton Head Island, SC |  7 | 3 |  0.0 | 0 | 2019 |\n",
       "| 157 | 03-12-2020 | GHCND:USW00053860 | 150 | 150 |  67 |  81 | 0 | 0 | 0 | 0 | 81 | 57 | TPC Sawgrass - Ponte Vedra Beach, FL             |  5 | 2 |  0.0 | 0 | 2020 |\n",
       "| 158 | 03-13-2020 | GHCND:USW00053860 | 260 | 240 |  63 |  81 | 0 | 0 | 0 | 0 | 85 | 57 | TPC Sawgrass - Ponte Vedra Beach, FL             |  4 | 2 |  0.0 | 0 | 2020 |\n",
       "| 159 | 03-14-2020 | GHCND:USW00053860 | 140 | 140 |  63 |  81 | 1 | 0 | 0 | 0 | 84 | 58 | TPC Sawgrass - Ponte Vedra Beach, FL             |  4 | 2 |  0.0 | 0 | 2020 |\n",
       "| 160 | 03-15-2020 | GHCND:USW00053860 |  60 |  30 |  67 |  85 | 1 | 0 | 0 | 0 | 88 | 61 | TPC Sawgrass - Ponte Vedra Beach, FL             |  4 | 2 |  0.0 | 0 | 2020 |\n",
       "| 161 | 06-18-2020 | GHCND:USW00093831 | 110 | 110 |  63 |  89 | 0 | 0 | 0 | 0 | 86 | 62 | Harbour Town Golf Links - Hilton Head Island, SC |  3 | 2 |  0.0 | 0 | 2020 |\n",
       "| 162 | 06-19-2020 | GHCND:USW00093831 | 300 | 290 | 165 | 192 | 0 | 0 | 0 | 0 | 90 | 68 | Harbour Town Golf Links - Hilton Head Island, SC |  4 | 2 | 41.4 | 3 | 2020 |\n",
       "| 163 | 06-20-2020 | GHCND:USW00093831 | 190 | 190 |  45 |  67 | 0 | 0 | 0 | 0 | 91 | 67 | Harbour Town Golf Links - Hilton Head Island, SC |  4 | 2 |  0.0 | 0 | 2020 |\n",
       "| 164 | 06-21-2020 | GHCND:USW00093831 | 190 | 180 |  58 |  89 | 0 | 0 | 0 | 0 | 92 | 71 | Harbour Town Golf Links - Hilton Head Island, SC |  4 | 2 |  0.0 | 0 | 2020 |\n",
       "| 165 | 11-12-2020 | GHCND:USW00013837 | 320 | 350 |  81 | 116 | 1 | 1 | 1 | 0 | 83 | 69 | Augusta National Golf Club - Augusta, GA         |  6 | 2 |  8.9 | 2 | 2020 |\n",
       "| 174 | 02-02-2021 | GHCND:USW00003192 | 150 | 160 |  36 |  49 | 0 | 0 | 0 | 0 | 82 | 55 | TPC Scottsdale - Scottsdale, AZ                  |  2 | 1 |  0.0 | 0 | 2021 |\n",
       "| 182 | 03-13-2021 | GHCND:USW00053860 | 150 | 130 |  63 |  76 | 1 | 0 | 0 | 0 | 83 | 54 | TPC Sawgrass - Ponte Vedra Beach, FL             |  5 | 2 |  0.0 | 0 | 2021 |\n",
       "| 183 | 03-14-2021 | GHCND:USW00053860 | 140 | 140 |  63 |  81 | 0 | 0 | 0 | 0 | 84 | 59 | TPC Sawgrass - Ponte Vedra Beach, FL             |  6 | 2 |  0.0 | 0 | 2021 |\n",
       "| 184 | 04-05-2021 | GHCND:USW00013837 | 210 | 160 |  45 |  58 | 0 | 0 | 0 | 0 | 82 | 49 | Augusta National Golf Club - Augusta, GA         |  2 | 1 |  0.0 | 0 | 2021 |\n",
       "| 185 | 04-06-2021 | GHCND:USW00013837 | 310 | 210 |  58 |  76 | 0 | 0 | 0 | 0 | 84 | 52 | Augusta National Golf Club - Augusta, GA         |  3 | 2 |  0.0 | 0 | 2021 |\n",
       "| 186 | 04-07-2021 | GHCND:USW00013837 | 210 | 210 |  54 |  67 | 0 | 0 | 0 | 0 | 86 | 62 | Augusta National Golf Club - Augusta, GA         |  4 | 2 |  0.0 | 0 | 2021 |\n",
       "| 187 | 04-08-2021 | GHCND:USW00013837 | 210 | 210 |  76 | 103 | 0 | 0 | 0 | 0 | 81 | 59 | Augusta National Golf Club - Augusta, GA         |  7 | 3 |  0.0 | 0 | 2021 |\n",
       "| 191 | 04-12-2021 | GHCND:USW00093831 | 250 | 250 |  76 | 116 | 0 | 0 | 0 | 0 | 87 | 60 | Harbour Town Golf Links - Hilton Head Island, SC |  9 | 3 |  0.0 | 0 | 2021 |\n",
       "| 192 | 04-13-2021 | GHCND:USW00093831 | 150 | 150 |  54 |  72 | 0 | 0 | 0 | 0 | 81 | 55 | Harbour Town Golf Links - Hilton Head Island, SC |  6 | 2 |  0.0 | 0 | 2021 |\n",
       "| 193 | 04-14-2021 | GHCND:USW00093831 | 180 | 190 |  81 | 130 | 0 | 0 | 0 | 0 | 82 | 56 | Harbour Town Golf Links - Hilton Head Island, SC |  8 | 3 |  0.0 | 0 | 2021 |\n",
       "| 197 | 04-18-2021 | GHCND:USW00093831 | 250 | 240 |  58 |  81 | 0 | 0 | 0 | 0 | 82 | 63 | Harbour Town Golf Links - Hilton Head Island, SC |  6 | 2 |  0.0 | 0 | 2021 |\n",
       "| 208 | 02-13-2022 | GHCND:USW00003192 | 190 | 190 |  36 |  45 | 0 | 0 | 0 | 0 | 81 | 46 | TPC Scottsdale - Scottsdale, AZ                  |  2 | 1 |  0.0 | 0 | 2022 |\n",
       "\n"
      ],
      "text/plain": [
       "   X   date       station           wdf2 wdf5 wsf2 wsf5 wt01 wt02 wt03 wt08\n",
       "1    2 04-12-2014 GHCND:USW00013837 200  180   54   76  0    0    0    0   \n",
       "2    3 04-13-2014 GHCND:USW00013837 130  130   67   81  0    0    0    0   \n",
       "3   12 04-09-2015 GHCND:USW00013837 200  190   72   98  0    0    0    0   \n",
       "4   13 04-10-2015 GHCND:USW00013837 210  210   72  103  0    0    1    0   \n",
       "5   14 04-11-2015 GHCND:USW00013837 360  250   45   67  1    0    0    0   \n",
       "6   16 04-15-2015 GHCND:USW00093831 100  100  103  139  0    0    0    0   \n",
       "7   21 05-07-2015 GHCND:USW00053860 360   20   89  121  1    0    0    0   \n",
       "8   22 05-08-2015 GHCND:USW00053860 320  320   72   89  0    0    0    0   \n",
       "9   23 05-09-2015 GHCND:USW00053860  90   90   58   67  1    0    0    0   \n",
       "10  24 05-10-2015 GHCND:USW00053860 150  160   72   89  1    0    0    0   \n",
       "11  45 05-12-2016 GHCND:USW00053860 140  140   72   89  0    0    0    0   \n",
       "12  46 05-13-2016 GHCND:USW00053860 330  320  116  143  0    0    1    0   \n",
       "13  47 05-14-2016 GHCND:USW00053860 240  270   81  112  0    0    0    0   \n",
       "14  48 05-15-2016 GHCND:USW00053860  10   10   58   67  0    0    0    0   \n",
       "15  64 04-13-2017 GHCND:USW00093831 110  100   54   67  0    0    0    0   \n",
       "16  65 04-14-2017 GHCND:USW00093831 110  110   67   85  0    0    0    0   \n",
       "17  66 04-15-2017 GHCND:USW00093831 170  160   40   67  0    0    0    0   \n",
       "18  68 05-11-2017 GHCND:USW00053860 230  240   89  121  0    0    0    1   \n",
       "19  69 05-12-2017 GHCND:USW00053860 230  220  103  130  0    0    0    1   \n",
       "20  70 05-13-2017 GHCND:USW00053860 210  310  125  170  1    0    1    1   \n",
       "21  75 01-28-2018 GHCND:USW00003131 230  240   54   67  0    0    0    0   \n",
       "22  76 01-29-2018 GHCND:USW00003131 300  290   63   81  0    0    0    0   \n",
       "23  77 01-30-2018 GHCND:USW00003131 320  320   45   54  0    0    0    0   \n",
       "24  88 04-14-2018 GHCND:USW00093831 150  150   76  112  0    0    0    0   \n",
       "25  90 05-10-2018 GHCND:USW00053860 140  140   67   81  1    0    0    0   \n",
       "26  91 05-11-2018 GHCND:USW00053860  50   80   72   94  0    0    0    0   \n",
       "27  92 05-12-2018 GHCND:USW00053860 150  110   72   89  1    0    0    0   \n",
       "28  93 05-13-2018 GHCND:USW00053860  60   90   63   81  0    0    0    0   \n",
       "29  96 01-26-2019 GHCND:USW00003131 360   20   89  121  0    0    0    0   \n",
       "30 134 03-15-2019 GHCND:USW00053860 220  220   76   94  0    0    0    0   \n",
       "31 137 04-11-2019 GHCND:USW00013837 140  120   72   98  1    0    0    0   \n",
       "32 138 04-12-2019 GHCND:USW00013837 210  260   63  116  1    0    0    0   \n",
       "33 139 04-13-2019 GHCND:USW00013837 180  140   54   67  1    0    0    0   \n",
       "34 144 04-18-2019 GHCND:USW00093831 150  150   89  116  0    0    0    0   \n",
       "35 157 03-12-2020 GHCND:USW00053860 150  150   67   81  0    0    0    0   \n",
       "36 158 03-13-2020 GHCND:USW00053860 260  240   63   81  0    0    0    0   \n",
       "37 159 03-14-2020 GHCND:USW00053860 140  140   63   81  1    0    0    0   \n",
       "38 160 03-15-2020 GHCND:USW00053860  60   30   67   85  1    0    0    0   \n",
       "39 161 06-18-2020 GHCND:USW00093831 110  110   63   89  0    0    0    0   \n",
       "40 162 06-19-2020 GHCND:USW00093831 300  290  165  192  0    0    0    0   \n",
       "41 163 06-20-2020 GHCND:USW00093831 190  190   45   67  0    0    0    0   \n",
       "42 164 06-21-2020 GHCND:USW00093831 190  180   58   89  0    0    0    0   \n",
       "43 165 11-12-2020 GHCND:USW00013837 320  350   81  116  1    1    1    0   \n",
       "44 174 02-02-2021 GHCND:USW00003192 150  160   36   49  0    0    0    0   \n",
       "45 182 03-13-2021 GHCND:USW00053860 150  130   63   76  1    0    0    0   \n",
       "46 183 03-14-2021 GHCND:USW00053860 140  140   63   81  0    0    0    0   \n",
       "47 184 04-05-2021 GHCND:USW00013837 210  160   45   58  0    0    0    0   \n",
       "48 185 04-06-2021 GHCND:USW00013837 310  210   58   76  0    0    0    0   \n",
       "49 186 04-07-2021 GHCND:USW00013837 210  210   54   67  0    0    0    0   \n",
       "50 187 04-08-2021 GHCND:USW00013837 210  210   76  103  0    0    0    0   \n",
       "51 191 04-12-2021 GHCND:USW00093831 250  250   76  116  0    0    0    0   \n",
       "52 192 04-13-2021 GHCND:USW00093831 150  150   54   72  0    0    0    0   \n",
       "53 193 04-14-2021 GHCND:USW00093831 180  190   81  130  0    0    0    0   \n",
       "54 197 04-18-2021 GHCND:USW00093831 250  240   58   81  0    0    0    0   \n",
       "55 208 02-13-2022 GHCND:USW00003192 190  190   36   45  0    0    0    0   \n",
       "   fmax fmin course_location                                  wind_mph\n",
       "1  84   57   Augusta National Golf Club - Augusta, GA          4      \n",
       "2  82   58   Augusta National Golf Club - Augusta, GA          8      \n",
       "3  90   68   Augusta National Golf Club - Augusta, GA          8      \n",
       "4  85   67   Augusta National Golf Club - Augusta, GA          8      \n",
       "5  83   68   Augusta National Golf Club - Augusta, GA          5      \n",
       "6  87   62   Harbour Town Golf Links - Hilton Head Island, SC  6      \n",
       "7  86   62   TPC Sawgrass - Ponte Vedra Beach, FL             10      \n",
       "8  86   66   TPC Sawgrass - Ponte Vedra Beach, FL              7      \n",
       "9  86   65   TPC Sawgrass - Ponte Vedra Beach, FL              4      \n",
       "10 90   65   TPC Sawgrass - Ponte Vedra Beach, FL              6      \n",
       "11 87   63   TPC Sawgrass - Ponte Vedra Beach, FL              7      \n",
       "12 91   67   TPC Sawgrass - Ponte Vedra Beach, FL              6      \n",
       "13 90   62   TPC Sawgrass - Ponte Vedra Beach, FL              7      \n",
       "14 81   58   TPC Sawgrass - Ponte Vedra Beach, FL              5      \n",
       "15 82   57   Harbour Town Golf Links - Hilton Head Island, SC  3      \n",
       "16 81   59   Harbour Town Golf Links - Hilton Head Island, SC  5      \n",
       "17 82   59   Harbour Town Golf Links - Hilton Head Island, SC  3      \n",
       "18 94   68   TPC Sawgrass - Ponte Vedra Beach, FL             11      \n",
       "19 92   68   TPC Sawgrass - Ponte Vedra Beach, FL             11      \n",
       "20 85   69   TPC Sawgrass - Ponte Vedra Beach, FL              9      \n",
       "21 85   47   Torrey Pines North - La Jolla, CA                 3      \n",
       "22 86   51   Torrey Pines North - La Jolla, CA                 4      \n",
       "23 83   55   Torrey Pines North - La Jolla, CA                 4      \n",
       "24 81   60   Harbour Town Golf Links - Hilton Head Island, SC  5      \n",
       "25 86   58   TPC Sawgrass - Ponte Vedra Beach, FL              5      \n",
       "26 92   67   TPC Sawgrass - Ponte Vedra Beach, FL              7      \n",
       "27 88   65   TPC Sawgrass - Ponte Vedra Beach, FL              5      \n",
       "28 84   62   TPC Sawgrass - Ponte Vedra Beach, FL              4      \n",
       "29 81   51   Torrey Pines North - La Jolla, CA                 7      \n",
       "30 85   60   TPC Sawgrass - Ponte Vedra Beach, FL              8      \n",
       "31 85   61   Augusta National Golf Club - Augusta, GA          8      \n",
       "32 85   69   Augusta National Golf Club - Augusta, GA          6      \n",
       "33 85   71   Augusta National Golf Club - Augusta, GA          6      \n",
       "34 81   58   Harbour Town Golf Links - Hilton Head Island, SC  7      \n",
       "35 81   57   TPC Sawgrass - Ponte Vedra Beach, FL              5      \n",
       "36 85   57   TPC Sawgrass - Ponte Vedra Beach, FL              4      \n",
       "37 84   58   TPC Sawgrass - Ponte Vedra Beach, FL              4      \n",
       "38 88   61   TPC Sawgrass - Ponte Vedra Beach, FL              4      \n",
       "39 86   62   Harbour Town Golf Links - Hilton Head Island, SC  3      \n",
       "40 90   68   Harbour Town Golf Links - Hilton Head Island, SC  4      \n",
       "41 91   67   Harbour Town Golf Links - Hilton Head Island, SC  4      \n",
       "42 92   71   Harbour Town Golf Links - Hilton Head Island, SC  4      \n",
       "43 83   69   Augusta National Golf Club - Augusta, GA          6      \n",
       "44 82   55   TPC Scottsdale - Scottsdale, AZ                   2      \n",
       "45 83   54   TPC Sawgrass - Ponte Vedra Beach, FL              5      \n",
       "46 84   59   TPC Sawgrass - Ponte Vedra Beach, FL              6      \n",
       "47 82   49   Augusta National Golf Club - Augusta, GA          2      \n",
       "48 84   52   Augusta National Golf Club - Augusta, GA          3      \n",
       "49 86   62   Augusta National Golf Club - Augusta, GA          4      \n",
       "50 81   59   Augusta National Golf Club - Augusta, GA          7      \n",
       "51 87   60   Harbour Town Golf Links - Hilton Head Island, SC  9      \n",
       "52 81   55   Harbour Town Golf Links - Hilton Head Island, SC  6      \n",
       "53 82   56   Harbour Town Golf Links - Hilton Head Island, SC  8      \n",
       "54 82   63   Harbour Town Golf Links - Hilton Head Island, SC  6      \n",
       "55 81   46   TPC Scottsdale - Scottsdale, AZ                   2      \n",
       "   wind_rating prcp_mm prcp_rating year\n",
       "1  2            0.0    0           2014\n",
       "2  3            0.0    0           2014\n",
       "3  3            0.0    0           2015\n",
       "4  3            0.0    0           2015\n",
       "5  2            0.5    1           2015\n",
       "6  2           36.6    3           2015\n",
       "7  3            2.0    1           2015\n",
       "8  3            0.0    0           2015\n",
       "9  2            0.0    0           2015\n",
       "10 2            0.0    0           2015\n",
       "11 3            0.0    0           2016\n",
       "12 2            8.4    2           2016\n",
       "13 3            0.0    0           2016\n",
       "14 2            0.0    0           2016\n",
       "15 2            0.0    0           2017\n",
       "16 2            0.0    0           2017\n",
       "17 2            0.0    0           2017\n",
       "18 3            0.0    0           2017\n",
       "19 3            0.0    0           2017\n",
       "20 3           14.7    3           2017\n",
       "21 2            0.0    0           2018\n",
       "22 2            0.0    0           2018\n",
       "23 2            0.0    0           2018\n",
       "24 2            0.0    0           2018\n",
       "25 2            0.0    0           2018\n",
       "26 3            0.0    0           2018\n",
       "27 2            0.0    0           2018\n",
       "28 2            0.0    0           2018\n",
       "29 3            0.0    0           2019\n",
       "30 3            0.0    0           2019\n",
       "31 3            0.0    0           2019\n",
       "32 2            9.9    2           2019\n",
       "33 2            0.0    0           2019\n",
       "34 3            0.0    0           2019\n",
       "35 2            0.0    0           2020\n",
       "36 2            0.0    0           2020\n",
       "37 2            0.0    0           2020\n",
       "38 2            0.0    0           2020\n",
       "39 2            0.0    0           2020\n",
       "40 2           41.4    3           2020\n",
       "41 2            0.0    0           2020\n",
       "42 2            0.0    0           2020\n",
       "43 2            8.9    2           2020\n",
       "44 1            0.0    0           2021\n",
       "45 2            0.0    0           2021\n",
       "46 2            0.0    0           2021\n",
       "47 1            0.0    0           2021\n",
       "48 2            0.0    0           2021\n",
       "49 2            0.0    0           2021\n",
       "50 3            0.0    0           2021\n",
       "51 3            0.0    0           2021\n",
       "52 2            0.0    0           2021\n",
       "53 3            0.0    0           2021\n",
       "54 2            0.0    0           2021\n",
       "55 1            0.0    0           2022"
      ]
     },
     "metadata": {},
     "output_type": "display_data"
    }
   ],
   "source": [
    "high_temps"
   ]
  },
  {
   "cell_type": "code",
   "execution_count": 49,
   "metadata": {
    "scrolled": true
   },
   "outputs": [
    {
     "data": {
      "image/png": "[encoded data removed]",
      "text/plain": [
       "plot without title"
      ]
     },
     "metadata": {},
     "output_type": "display_data"
    }
   ],
   "source": [
    "ggplot(data=high_temps, aes(x=fmax)) + geom_bar()\n",
    "#there is a gap between 88 and 90 degrees \n",
    "#lets pull the data from the weather >= 90"
   ]
  },
  {
   "cell_type": "code",
   "execution_count": 50,
   "metadata": {},
   "outputs": [
    {
     "data": {
      "text/html": [
       "10"
      ],
      "text/latex": [
       "10"
      ],
      "text/markdown": [
       "10"
      ],
      "text/plain": [
       "[1] 10"
      ]
     },
     "metadata": {},
     "output_type": "display_data"
    }
   ],
   "source": [
    "highest_temps <- high_temps %>%\n",
    "filter(fmax >= 90)\n",
    "nrow(highest_temps)\n",
    "#these are the 10 hottest days"
   ]
  },
  {
   "cell_type": "code",
   "execution_count": 51,
   "metadata": {
    "scrolled": true
   },
   "outputs": [
    {
     "data": {
      "text/html": [
       "<table>\n",
       "<caption>A data.frame: 10 × 19</caption>\n",
       "<thead>\n",
       "\t<tr><th scope=col>X</th><th scope=col>date</th><th scope=col>station</th><th scope=col>wdf2</th><th scope=col>wdf5</th><th scope=col>wsf2</th><th scope=col>wsf5</th><th scope=col>wt01</th><th scope=col>wt02</th><th scope=col>wt03</th><th scope=col>wt08</th><th scope=col>fmax</th><th scope=col>fmin</th><th scope=col>course_location</th><th scope=col>wind_mph</th><th scope=col>wind_rating</th><th scope=col>prcp_mm</th><th scope=col>prcp_rating</th><th scope=col>year</th></tr>\n",
       "\t<tr><th scope=col>&lt;int&gt;</th><th scope=col>&lt;fct&gt;</th><th scope=col>&lt;fct&gt;</th><th scope=col>&lt;dbl&gt;</th><th scope=col>&lt;dbl&gt;</th><th scope=col>&lt;dbl&gt;</th><th scope=col>&lt;dbl&gt;</th><th scope=col>&lt;dbl&gt;</th><th scope=col>&lt;dbl&gt;</th><th scope=col>&lt;dbl&gt;</th><th scope=col>&lt;dbl&gt;</th><th scope=col>&lt;dbl&gt;</th><th scope=col>&lt;dbl&gt;</th><th scope=col>&lt;fct&gt;</th><th scope=col>&lt;dbl&gt;</th><th scope=col>&lt;int&gt;</th><th scope=col>&lt;dbl&gt;</th><th scope=col>&lt;int&gt;</th><th scope=col>&lt;int&gt;</th></tr>\n",
       "</thead>\n",
       "<tbody>\n",
       "\t<tr><td> 12</td><td>04-09-2015</td><td>GHCND:USW00013837</td><td>200</td><td>190</td><td> 72</td><td> 98</td><td>0</td><td>0</td><td>0</td><td>0</td><td>90</td><td>68</td><td>Augusta National Golf Club - Augusta, GA        </td><td> 8</td><td>3</td><td> 0.0</td><td>0</td><td>2015</td></tr>\n",
       "\t<tr><td> 24</td><td>05-10-2015</td><td>GHCND:USW00053860</td><td>150</td><td>160</td><td> 72</td><td> 89</td><td>1</td><td>0</td><td>0</td><td>0</td><td>90</td><td>65</td><td>TPC Sawgrass - Ponte Vedra Beach, FL            </td><td> 6</td><td>2</td><td> 0.0</td><td>0</td><td>2015</td></tr>\n",
       "\t<tr><td> 46</td><td>05-13-2016</td><td>GHCND:USW00053860</td><td>330</td><td>320</td><td>116</td><td>143</td><td>0</td><td>0</td><td>1</td><td>0</td><td>91</td><td>67</td><td>TPC Sawgrass - Ponte Vedra Beach, FL            </td><td> 6</td><td>2</td><td> 8.4</td><td>2</td><td>2016</td></tr>\n",
       "\t<tr><td> 47</td><td>05-14-2016</td><td>GHCND:USW00053860</td><td>240</td><td>270</td><td> 81</td><td>112</td><td>0</td><td>0</td><td>0</td><td>0</td><td>90</td><td>62</td><td>TPC Sawgrass - Ponte Vedra Beach, FL            </td><td> 7</td><td>3</td><td> 0.0</td><td>0</td><td>2016</td></tr>\n",
       "\t<tr><td> 68</td><td>05-11-2017</td><td>GHCND:USW00053860</td><td>230</td><td>240</td><td> 89</td><td>121</td><td>0</td><td>0</td><td>0</td><td>1</td><td>94</td><td>68</td><td>TPC Sawgrass - Ponte Vedra Beach, FL            </td><td>11</td><td>3</td><td> 0.0</td><td>0</td><td>2017</td></tr>\n",
       "\t<tr><td> 69</td><td>05-12-2017</td><td>GHCND:USW00053860</td><td>230</td><td>220</td><td>103</td><td>130</td><td>0</td><td>0</td><td>0</td><td>1</td><td>92</td><td>68</td><td>TPC Sawgrass - Ponte Vedra Beach, FL            </td><td>11</td><td>3</td><td> 0.0</td><td>0</td><td>2017</td></tr>\n",
       "\t<tr><td> 91</td><td>05-11-2018</td><td>GHCND:USW00053860</td><td> 50</td><td> 80</td><td> 72</td><td> 94</td><td>0</td><td>0</td><td>0</td><td>0</td><td>92</td><td>67</td><td>TPC Sawgrass - Ponte Vedra Beach, FL            </td><td> 7</td><td>3</td><td> 0.0</td><td>0</td><td>2018</td></tr>\n",
       "\t<tr><td>162</td><td>06-19-2020</td><td>GHCND:USW00093831</td><td>300</td><td>290</td><td>165</td><td>192</td><td>0</td><td>0</td><td>0</td><td>0</td><td>90</td><td>68</td><td>Harbour Town Golf Links - Hilton Head Island, SC</td><td> 4</td><td>2</td><td>41.4</td><td>3</td><td>2020</td></tr>\n",
       "\t<tr><td>163</td><td>06-20-2020</td><td>GHCND:USW00093831</td><td>190</td><td>190</td><td> 45</td><td> 67</td><td>0</td><td>0</td><td>0</td><td>0</td><td>91</td><td>67</td><td>Harbour Town Golf Links - Hilton Head Island, SC</td><td> 4</td><td>2</td><td> 0.0</td><td>0</td><td>2020</td></tr>\n",
       "\t<tr><td>164</td><td>06-21-2020</td><td>GHCND:USW00093831</td><td>190</td><td>180</td><td> 58</td><td> 89</td><td>0</td><td>0</td><td>0</td><td>0</td><td>92</td><td>71</td><td>Harbour Town Golf Links - Hilton Head Island, SC</td><td> 4</td><td>2</td><td> 0.0</td><td>0</td><td>2020</td></tr>\n",
       "</tbody>\n",
       "</table>\n"
      ],
      "text/latex": [
       "A data.frame: 10 × 19\n",
       "\\begin{tabular}{r|lllllllllllllllllll}\n",
       " X & date & station & wdf2 & wdf5 & wsf2 & wsf5 & wt01 & wt02 & wt03 & wt08 & fmax & fmin & course\\_location & wind\\_mph & wind\\_rating & prcp\\_mm & prcp\\_rating & year\\\\\n",
       " <int> & <fct> & <fct> & <dbl> & <dbl> & <dbl> & <dbl> & <dbl> & <dbl> & <dbl> & <dbl> & <dbl> & <dbl> & <fct> & <dbl> & <int> & <dbl> & <int> & <int>\\\\\n",
       "\\hline\n",
       "\t  12 & 04-09-2015 & GHCND:USW00013837 & 200 & 190 &  72 &  98 & 0 & 0 & 0 & 0 & 90 & 68 & Augusta National Golf Club - Augusta, GA         &  8 & 3 &  0.0 & 0 & 2015\\\\\n",
       "\t  24 & 05-10-2015 & GHCND:USW00053860 & 150 & 160 &  72 &  89 & 1 & 0 & 0 & 0 & 90 & 65 & TPC Sawgrass - Ponte Vedra Beach, FL             &  6 & 2 &  0.0 & 0 & 2015\\\\\n",
       "\t  46 & 05-13-2016 & GHCND:USW00053860 & 330 & 320 & 116 & 143 & 0 & 0 & 1 & 0 & 91 & 67 & TPC Sawgrass - Ponte Vedra Beach, FL             &  6 & 2 &  8.4 & 2 & 2016\\\\\n",
       "\t  47 & 05-14-2016 & GHCND:USW00053860 & 240 & 270 &  81 & 112 & 0 & 0 & 0 & 0 & 90 & 62 & TPC Sawgrass - Ponte Vedra Beach, FL             &  7 & 3 &  0.0 & 0 & 2016\\\\\n",
       "\t  68 & 05-11-2017 & GHCND:USW00053860 & 230 & 240 &  89 & 121 & 0 & 0 & 0 & 1 & 94 & 68 & TPC Sawgrass - Ponte Vedra Beach, FL             & 11 & 3 &  0.0 & 0 & 2017\\\\\n",
       "\t  69 & 05-12-2017 & GHCND:USW00053860 & 230 & 220 & 103 & 130 & 0 & 0 & 0 & 1 & 92 & 68 & TPC Sawgrass - Ponte Vedra Beach, FL             & 11 & 3 &  0.0 & 0 & 2017\\\\\n",
       "\t  91 & 05-11-2018 & GHCND:USW00053860 &  50 &  80 &  72 &  94 & 0 & 0 & 0 & 0 & 92 & 67 & TPC Sawgrass - Ponte Vedra Beach, FL             &  7 & 3 &  0.0 & 0 & 2018\\\\\n",
       "\t 162 & 06-19-2020 & GHCND:USW00093831 & 300 & 290 & 165 & 192 & 0 & 0 & 0 & 0 & 90 & 68 & Harbour Town Golf Links - Hilton Head Island, SC &  4 & 2 & 41.4 & 3 & 2020\\\\\n",
       "\t 163 & 06-20-2020 & GHCND:USW00093831 & 190 & 190 &  45 &  67 & 0 & 0 & 0 & 0 & 91 & 67 & Harbour Town Golf Links - Hilton Head Island, SC &  4 & 2 &  0.0 & 0 & 2020\\\\\n",
       "\t 164 & 06-21-2020 & GHCND:USW00093831 & 190 & 180 &  58 &  89 & 0 & 0 & 0 & 0 & 92 & 71 & Harbour Town Golf Links - Hilton Head Island, SC &  4 & 2 &  0.0 & 0 & 2020\\\\\n",
       "\\end{tabular}\n"
      ],
      "text/markdown": [
       "\n",
       "A data.frame: 10 × 19\n",
       "\n",
       "| X &lt;int&gt; | date &lt;fct&gt; | station &lt;fct&gt; | wdf2 &lt;dbl&gt; | wdf5 &lt;dbl&gt; | wsf2 &lt;dbl&gt; | wsf5 &lt;dbl&gt; | wt01 &lt;dbl&gt; | wt02 &lt;dbl&gt; | wt03 &lt;dbl&gt; | wt08 &lt;dbl&gt; | fmax &lt;dbl&gt; | fmin &lt;dbl&gt; | course_location &lt;fct&gt; | wind_mph &lt;dbl&gt; | wind_rating &lt;int&gt; | prcp_mm &lt;dbl&gt; | prcp_rating &lt;int&gt; | year &lt;int&gt; |\n",
       "|---|---|---|---|---|---|---|---|---|---|---|---|---|---|---|---|---|---|---|\n",
       "|  12 | 04-09-2015 | GHCND:USW00013837 | 200 | 190 |  72 |  98 | 0 | 0 | 0 | 0 | 90 | 68 | Augusta National Golf Club - Augusta, GA         |  8 | 3 |  0.0 | 0 | 2015 |\n",
       "|  24 | 05-10-2015 | GHCND:USW00053860 | 150 | 160 |  72 |  89 | 1 | 0 | 0 | 0 | 90 | 65 | TPC Sawgrass - Ponte Vedra Beach, FL             |  6 | 2 |  0.0 | 0 | 2015 |\n",
       "|  46 | 05-13-2016 | GHCND:USW00053860 | 330 | 320 | 116 | 143 | 0 | 0 | 1 | 0 | 91 | 67 | TPC Sawgrass - Ponte Vedra Beach, FL             |  6 | 2 |  8.4 | 2 | 2016 |\n",
       "|  47 | 05-14-2016 | GHCND:USW00053860 | 240 | 270 |  81 | 112 | 0 | 0 | 0 | 0 | 90 | 62 | TPC Sawgrass - Ponte Vedra Beach, FL             |  7 | 3 |  0.0 | 0 | 2016 |\n",
       "|  68 | 05-11-2017 | GHCND:USW00053860 | 230 | 240 |  89 | 121 | 0 | 0 | 0 | 1 | 94 | 68 | TPC Sawgrass - Ponte Vedra Beach, FL             | 11 | 3 |  0.0 | 0 | 2017 |\n",
       "|  69 | 05-12-2017 | GHCND:USW00053860 | 230 | 220 | 103 | 130 | 0 | 0 | 0 | 1 | 92 | 68 | TPC Sawgrass - Ponte Vedra Beach, FL             | 11 | 3 |  0.0 | 0 | 2017 |\n",
       "|  91 | 05-11-2018 | GHCND:USW00053860 |  50 |  80 |  72 |  94 | 0 | 0 | 0 | 0 | 92 | 67 | TPC Sawgrass - Ponte Vedra Beach, FL             |  7 | 3 |  0.0 | 0 | 2018 |\n",
       "| 162 | 06-19-2020 | GHCND:USW00093831 | 300 | 290 | 165 | 192 | 0 | 0 | 0 | 0 | 90 | 68 | Harbour Town Golf Links - Hilton Head Island, SC |  4 | 2 | 41.4 | 3 | 2020 |\n",
       "| 163 | 06-20-2020 | GHCND:USW00093831 | 190 | 190 |  45 |  67 | 0 | 0 | 0 | 0 | 91 | 67 | Harbour Town Golf Links - Hilton Head Island, SC |  4 | 2 |  0.0 | 0 | 2020 |\n",
       "| 164 | 06-21-2020 | GHCND:USW00093831 | 190 | 180 |  58 |  89 | 0 | 0 | 0 | 0 | 92 | 71 | Harbour Town Golf Links - Hilton Head Island, SC |  4 | 2 |  0.0 | 0 | 2020 |\n",
       "\n"
      ],
      "text/plain": [
       "   X   date       station           wdf2 wdf5 wsf2 wsf5 wt01 wt02 wt03 wt08\n",
       "1   12 04-09-2015 GHCND:USW00013837 200  190   72   98  0    0    0    0   \n",
       "2   24 05-10-2015 GHCND:USW00053860 150  160   72   89  1    0    0    0   \n",
       "3   46 05-13-2016 GHCND:USW00053860 330  320  116  143  0    0    1    0   \n",
       "4   47 05-14-2016 GHCND:USW00053860 240  270   81  112  0    0    0    0   \n",
       "5   68 05-11-2017 GHCND:USW00053860 230  240   89  121  0    0    0    1   \n",
       "6   69 05-12-2017 GHCND:USW00053860 230  220  103  130  0    0    0    1   \n",
       "7   91 05-11-2018 GHCND:USW00053860  50   80   72   94  0    0    0    0   \n",
       "8  162 06-19-2020 GHCND:USW00093831 300  290  165  192  0    0    0    0   \n",
       "9  163 06-20-2020 GHCND:USW00093831 190  190   45   67  0    0    0    0   \n",
       "10 164 06-21-2020 GHCND:USW00093831 190  180   58   89  0    0    0    0   \n",
       "   fmax fmin course_location                                  wind_mph\n",
       "1  90   68   Augusta National Golf Club - Augusta, GA          8      \n",
       "2  90   65   TPC Sawgrass - Ponte Vedra Beach, FL              6      \n",
       "3  91   67   TPC Sawgrass - Ponte Vedra Beach, FL              6      \n",
       "4  90   62   TPC Sawgrass - Ponte Vedra Beach, FL              7      \n",
       "5  94   68   TPC Sawgrass - Ponte Vedra Beach, FL             11      \n",
       "6  92   68   TPC Sawgrass - Ponte Vedra Beach, FL             11      \n",
       "7  92   67   TPC Sawgrass - Ponte Vedra Beach, FL              7      \n",
       "8  90   68   Harbour Town Golf Links - Hilton Head Island, SC  4      \n",
       "9  91   67   Harbour Town Golf Links - Hilton Head Island, SC  4      \n",
       "10 92   71   Harbour Town Golf Links - Hilton Head Island, SC  4      \n",
       "   wind_rating prcp_mm prcp_rating year\n",
       "1  3            0.0    0           2015\n",
       "2  2            0.0    0           2015\n",
       "3  2            8.4    2           2016\n",
       "4  3            0.0    0           2016\n",
       "5  3            0.0    0           2017\n",
       "6  3            0.0    0           2017\n",
       "7  3            0.0    0           2018\n",
       "8  2           41.4    3           2020\n",
       "9  2            0.0    0           2020\n",
       "10 2            0.0    0           2020"
      ]
     },
     "metadata": {},
     "output_type": "display_data"
    }
   ],
   "source": [
    "highest_temps\n",
    "#the highest temps are in florida and hilton head\n",
    "#one day in augusta 2015, maybe look into this one\n",
    "#hilton head 2020 had high temp and heavy rain"
   ]
  },
  {
   "cell_type": "code",
   "execution_count": null,
   "metadata": {},
   "outputs": [],
   "source": [
    "#highest_temps, rainy days, highest winds have the data worth looking into as outliers\n",
    "#nothing too out of the ordinary with just weather data, this can be taken to look into the main data\n",
    "#there are also tournaments played on different dates due to covid, this can be further examined \n",
    "#can look into wind direction/fog further if needed"
   ]
  },
  {
   "cell_type": "code",
   "execution_count": null,
   "metadata": {},
   "outputs": [],
   "source": [
    "#longer tournaments for some years than others (scottsdale 2021/2022 are long)\n",
    "#sawgrass was moved from may to march starting in 2019 could change the tourney\n",
    "#hilton head had the 2020 tourney moved to june prob due to covid"
   ]
  },
  {
   "cell_type": "code",
   "execution_count": null,
   "metadata": {},
   "outputs": [],
   "source": []
  },
  {
   "cell_type": "code",
   "execution_count": null,
   "metadata": {},
   "outputs": [],
   "source": []
  },
  {
   "cell_type": "code",
   "execution_count": null,
   "metadata": {},
   "outputs": [],
   "source": []
  },
  {
   "cell_type": "code",
   "execution_count": null,
   "metadata": {},
   "outputs": [],
   "source": []
  },
  {
   "cell_type": "code",
   "execution_count": null,
   "metadata": {},
   "outputs": [],
   "source": []
  }
 ],
 "metadata": {
  "kernelspec": {
   "display_name": "R",
   "language": "R",
   "name": "ir"
  },
  "language_info": {
   "codemirror_mode": "r",
   "file_extension": ".r",
   "mimetype": "text/x-r-source",
   "name": "R",
   "pygments_lexer": "r",
   "version": "3.5.1"
  }
 },
 "nbformat": 4,
 "nbformat_minor": 2
}
